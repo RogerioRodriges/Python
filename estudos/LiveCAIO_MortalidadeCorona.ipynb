{
 "cells": [
  {
   "cell_type": "code",
   "execution_count": 37,
   "metadata": {},
   "outputs": [],
   "source": [
    "import pandas as pd"
   ]
  },
  {
   "cell_type": "code",
   "execution_count": 38,
   "metadata": {},
   "outputs": [],
   "source": [
    "df = pd.read_csv('dados_covid_19.csv', index_col=0)"
   ]
  },
  {
   "cell_type": "code",
   "execution_count": 39,
   "metadata": {},
   "outputs": [
    {
     "data": {
      "text/html": [
       "<div>\n",
       "<style scoped>\n",
       "    .dataframe tbody tr th:only-of-type {\n",
       "        vertical-align: middle;\n",
       "    }\n",
       "\n",
       "    .dataframe tbody tr th {\n",
       "        vertical-align: top;\n",
       "    }\n",
       "\n",
       "    .dataframe thead th {\n",
       "        text-align: right;\n",
       "    }\n",
       "</style>\n",
       "<table border=\"1\" class=\"dataframe\">\n",
       "  <thead>\n",
       "    <tr style=\"text-align: right;\">\n",
       "      <th></th>\n",
       "      <th>Country/Region</th>\n",
       "      <th>Province/State</th>\n",
       "      <th>Date</th>\n",
       "      <th>Case_Type</th>\n",
       "      <th>Cases</th>\n",
       "      <th>Long</th>\n",
       "      <th>Lat</th>\n",
       "      <th>Difference</th>\n",
       "      <th>Last_Update_Date</th>\n",
       "    </tr>\n",
       "  </thead>\n",
       "  <tbody>\n",
       "    <tr>\n",
       "      <td>0</td>\n",
       "      <td>Afghanistan</td>\n",
       "      <td>NaN</td>\n",
       "      <td>2020-01-22</td>\n",
       "      <td>Confirmed</td>\n",
       "      <td>0</td>\n",
       "      <td>65.0</td>\n",
       "      <td>33.0</td>\n",
       "      <td>0</td>\n",
       "      <td>2020-03-16 12:08:25</td>\n",
       "    </tr>\n",
       "    <tr>\n",
       "      <td>1</td>\n",
       "      <td>Afghanistan</td>\n",
       "      <td>NaN</td>\n",
       "      <td>2020-01-23</td>\n",
       "      <td>Confirmed</td>\n",
       "      <td>0</td>\n",
       "      <td>65.0</td>\n",
       "      <td>33.0</td>\n",
       "      <td>0</td>\n",
       "      <td>2020-03-16 12:08:25</td>\n",
       "    </tr>\n",
       "    <tr>\n",
       "      <td>2</td>\n",
       "      <td>Afghanistan</td>\n",
       "      <td>NaN</td>\n",
       "      <td>2020-01-24</td>\n",
       "      <td>Confirmed</td>\n",
       "      <td>0</td>\n",
       "      <td>65.0</td>\n",
       "      <td>33.0</td>\n",
       "      <td>0</td>\n",
       "      <td>2020-03-16 12:08:25</td>\n",
       "    </tr>\n",
       "    <tr>\n",
       "      <td>3</td>\n",
       "      <td>Afghanistan</td>\n",
       "      <td>NaN</td>\n",
       "      <td>2020-01-25</td>\n",
       "      <td>Confirmed</td>\n",
       "      <td>0</td>\n",
       "      <td>65.0</td>\n",
       "      <td>33.0</td>\n",
       "      <td>0</td>\n",
       "      <td>2020-03-16 12:08:25</td>\n",
       "    </tr>\n",
       "    <tr>\n",
       "      <td>4</td>\n",
       "      <td>Afghanistan</td>\n",
       "      <td>NaN</td>\n",
       "      <td>2020-01-26</td>\n",
       "      <td>Confirmed</td>\n",
       "      <td>0</td>\n",
       "      <td>65.0</td>\n",
       "      <td>33.0</td>\n",
       "      <td>0</td>\n",
       "      <td>2020-03-16 12:08:25</td>\n",
       "    </tr>\n",
       "  </tbody>\n",
       "</table>\n",
       "</div>"
      ],
      "text/plain": [
       "  Country/Region Province/State        Date  Case_Type  Cases  Long   Lat  \\\n",
       "0    Afghanistan            NaN  2020-01-22  Confirmed      0  65.0  33.0   \n",
       "1    Afghanistan            NaN  2020-01-23  Confirmed      0  65.0  33.0   \n",
       "2    Afghanistan            NaN  2020-01-24  Confirmed      0  65.0  33.0   \n",
       "3    Afghanistan            NaN  2020-01-25  Confirmed      0  65.0  33.0   \n",
       "4    Afghanistan            NaN  2020-01-26  Confirmed      0  65.0  33.0   \n",
       "\n",
       "   Difference     Last_Update_Date  \n",
       "0           0  2020-03-16 12:08:25  \n",
       "1           0  2020-03-16 12:08:25  \n",
       "2           0  2020-03-16 12:08:25  \n",
       "3           0  2020-03-16 12:08:25  \n",
       "4           0  2020-03-16 12:08:25  "
      ]
     },
     "execution_count": 39,
     "metadata": {},
     "output_type": "execute_result"
    }
   ],
   "source": [
    "df.head()"
   ]
  },
  {
   "cell_type": "code",
   "execution_count": 6,
   "metadata": {},
   "outputs": [
    {
     "name": "stdout",
     "output_type": "stream",
     "text": [
      "<class 'pandas.core.frame.DataFrame'>\n",
      "Int64Index: 53064 entries, 0 to 53063\n",
      "Data columns (total 9 columns):\n",
      "Country/Region      53064 non-null object\n",
      "Province/State      23040 non-null object\n",
      "Date                53064 non-null object\n",
      "Case_Type           53064 non-null object\n",
      "Cases               53064 non-null int64\n",
      "Long                53064 non-null float64\n",
      "Lat                 53064 non-null float64\n",
      "Difference          53064 non-null int64\n",
      "Last_Update_Date    53064 non-null object\n",
      "dtypes: float64(2), int64(2), object(5)\n",
      "memory usage: 4.0+ MB\n"
     ]
    }
   ],
   "source": [
    "df.info()"
   ]
  },
  {
   "cell_type": "code",
   "execution_count": 40,
   "metadata": {},
   "outputs": [],
   "source": [
    "df.Date = pd.to_datetime(df.Date)"
   ]
  },
  {
   "cell_type": "code",
   "execution_count": 8,
   "metadata": {},
   "outputs": [
    {
     "name": "stdout",
     "output_type": "stream",
     "text": [
      "<class 'pandas.core.frame.DataFrame'>\n",
      "Int64Index: 53064 entries, 0 to 53063\n",
      "Data columns (total 9 columns):\n",
      "Country/Region      53064 non-null object\n",
      "Province/State      23040 non-null object\n",
      "Date                53064 non-null datetime64[ns]\n",
      "Case_Type           53064 non-null object\n",
      "Cases               53064 non-null int64\n",
      "Long                53064 non-null float64\n",
      "Lat                 53064 non-null float64\n",
      "Difference          53064 non-null int64\n",
      "Last_Update_Date    53064 non-null object\n",
      "dtypes: datetime64[ns](1), float64(2), int64(2), object(4)\n",
      "memory usage: 4.0+ MB\n"
     ]
    }
   ],
   "source": [
    "df.info()"
   ]
  },
  {
   "cell_type": "code",
   "execution_count": 41,
   "metadata": {},
   "outputs": [],
   "source": [
    "df.Last_Update_Date = pd.to_datetime(df.Last_Update_Date)"
   ]
  },
  {
   "cell_type": "code",
   "execution_count": 10,
   "metadata": {},
   "outputs": [
    {
     "name": "stdout",
     "output_type": "stream",
     "text": [
      "<class 'pandas.core.frame.DataFrame'>\n",
      "Int64Index: 53064 entries, 0 to 53063\n",
      "Data columns (total 9 columns):\n",
      "Country/Region      53064 non-null object\n",
      "Province/State      23040 non-null object\n",
      "Date                53064 non-null datetime64[ns]\n",
      "Case_Type           53064 non-null object\n",
      "Cases               53064 non-null int64\n",
      "Long                53064 non-null float64\n",
      "Lat                 53064 non-null float64\n",
      "Difference          53064 non-null int64\n",
      "Last_Update_Date    53064 non-null datetime64[ns]\n",
      "dtypes: datetime64[ns](2), float64(2), int64(2), object(3)\n",
      "memory usage: 4.0+ MB\n"
     ]
    }
   ],
   "source": [
    "df.info()"
   ]
  },
  {
   "cell_type": "code",
   "execution_count": 11,
   "metadata": {},
   "outputs": [
    {
     "data": {
      "text/plain": [
       "array(['Afghanistan', 'Albania', 'Algeria', 'Andorra',\n",
       "       'Antigua and Barbuda', 'Argentina', 'Armenia', 'Aruba',\n",
       "       'Australia', 'Austria', 'Azerbaijan', 'Bahrain', 'Bangladesh',\n",
       "       'Belarus', 'Belgium', 'Bhutan', 'Bolivia',\n",
       "       'Bosnia and Herzegovina', 'Brazil', 'Brunei', 'Bulgaria',\n",
       "       'Burkina Faso', 'Cambodia', 'Cameroon', 'Canada', 'Cayman Islands',\n",
       "       'Central African Republic', 'Chile', 'China', 'Colombia',\n",
       "       'Congo (Brazzaville)', 'Congo (Kinshasa)', 'Costa Rica',\n",
       "       \"Cote d'Ivoire\", 'Croatia', 'Cruise Ship', 'Cuba', 'Curacao',\n",
       "       'Cyprus', 'Czechia', 'Denmark', 'Dominican Republic', 'Ecuador',\n",
       "       'Egypt', 'Equatorial Guinea', 'Estonia', 'Eswatini', 'Ethiopia',\n",
       "       'Finland', 'France', 'Gabon', 'Georgia', 'Germany', 'Ghana',\n",
       "       'Greece', 'Guadeloupe', 'Guatemala', 'Guernsey', 'Guinea',\n",
       "       'Guyana', 'Honduras', 'Hungary', 'Iceland', 'India', 'Indonesia',\n",
       "       'Iran', 'Iraq', 'Ireland', 'Israel', 'Italy', 'Jamaica', 'Japan',\n",
       "       'Jersey', 'Jordan', 'Kazakhstan', 'Kenya', 'Korea, South',\n",
       "       'Kosovo', 'Kuwait', 'Latvia', 'Lebanon', 'Liechtenstein',\n",
       "       'Lithuania', 'Luxembourg', 'Malaysia', 'Maldives', 'Malta',\n",
       "       'Martinique', 'Mauritania', 'Mexico', 'Moldova', 'Monaco',\n",
       "       'Mongolia', 'Morocco', 'Namibia', 'Nepal', 'Netherlands',\n",
       "       'New Zealand', 'Nigeria', 'North Macedonia', 'Norway', 'Oman',\n",
       "       'Pakistan', 'Palestine', 'Panama', 'Paraguay', 'Peru',\n",
       "       'Philippines', 'Poland', 'Portugal', 'Qatar', 'Reunion', 'Romania',\n",
       "       'Russia', 'Rwanda', 'Saint Lucia',\n",
       "       'Saint Vincent and the Grenadines', 'San Marino', 'Saudi Arabia',\n",
       "       'Senegal', 'Serbia', 'Seychelles', 'Singapore', 'Slovakia',\n",
       "       'Slovenia', 'South Africa', 'Spain', 'Sri Lanka', 'Sudan',\n",
       "       'Suriname', 'Sweden', 'Switzerland', 'Taiwan*', 'Thailand', 'Togo',\n",
       "       'Trinidad and Tobago', 'Tunisia', 'Turkey', 'US', 'Ukraine',\n",
       "       'United Arab Emirates', 'United Kingdom', 'Uruguay', 'Uzbekistan',\n",
       "       'Vatican City', 'Venezuela', 'Vietnam'], dtype=object)"
      ]
     },
     "execution_count": 11,
     "metadata": {},
     "output_type": "execute_result"
    }
   ],
   "source": [
    "df['Country/Region'].unique()"
   ]
  },
  {
   "cell_type": "code",
   "execution_count": 42,
   "metadata": {},
   "outputs": [
    {
     "data": {
      "text/plain": [
       "147"
      ]
     },
     "execution_count": 42,
     "metadata": {},
     "output_type": "execute_result"
    }
   ],
   "source": [
    "df['Country/Region'].nunique()"
   ]
  },
  {
   "cell_type": "code",
   "execution_count": 13,
   "metadata": {},
   "outputs": [
    {
     "data": {
      "text/plain": [
       "118"
      ]
     },
     "execution_count": 13,
     "metadata": {},
     "output_type": "execute_result"
    }
   ],
   "source": [
    "df['Province/State'].nunique()"
   ]
  },
  {
   "cell_type": "code",
   "execution_count": 14,
   "metadata": {},
   "outputs": [
    {
     "data": {
      "text/plain": [
       "array([nan, 'Australian Capital Territory', 'From Diamond Princess',\n",
       "       'New South Wales', 'Northern Territory', 'Queensland',\n",
       "       'South Australia', 'Tasmania', 'Victoria', 'Western Australia',\n",
       "       'Alberta', 'British Columbia', 'Grand Princess', 'Manitoba',\n",
       "       'New Brunswick', 'Newfoundland and Labrador', 'Ontario',\n",
       "       'Prince Edward Island', 'Quebec', 'Saskatchewan', 'Anhui',\n",
       "       'Beijing', 'Chongqing', 'Fujian', 'Gansu', 'Guangdong', 'Guangxi',\n",
       "       'Guizhou', 'Hainan', 'Hebei', 'Heilongjiang', 'Henan', 'Hong Kong',\n",
       "       'Hubei', 'Hunan', 'Inner Mongolia', 'Jiangsu', 'Jiangxi', 'Jilin',\n",
       "       'Liaoning', 'Macau', 'Ningxia', 'Qinghai', 'Shaanxi', 'Shandong',\n",
       "       'Shanghai', 'Shanxi', 'Sichuan', 'Tianjin', 'Tibet', 'Xinjiang',\n",
       "       'Yunnan', 'Zhejiang', 'Diamond Princess', 'Denmark',\n",
       "       'Faroe Islands', 'France', 'French Guiana', 'French Polynesia',\n",
       "       'Mayotte', 'Saint Barthelemy', 'St Martin', 'Alabama', 'Alaska',\n",
       "       'Arizona', 'Arkansas', 'California', 'Colorado', 'Connecticut',\n",
       "       'Delaware', 'District of Columbia', 'Florida', 'Georgia', 'Guam',\n",
       "       'Hawaii', 'Idaho', 'Illinois', 'Indiana', 'Iowa', 'Kansas',\n",
       "       'Kentucky', 'Louisiana', 'Maine', 'Maryland', 'Massachusetts',\n",
       "       'Michigan', 'Minnesota', 'Mississippi', 'Missouri', 'Montana',\n",
       "       'Nebraska', 'Nevada', 'New Hampshire', 'New Jersey', 'New Mexico',\n",
       "       'New York', 'North Carolina', 'North Dakota', 'Ohio', 'Oklahoma',\n",
       "       'Oregon', 'Pennsylvania', 'Puerto Rico', 'Rhode Island',\n",
       "       'South Carolina', 'South Dakota', 'Tennessee', 'Texas', 'Utah',\n",
       "       'Vermont', 'Virgin Islands', 'Virginia', 'Washington',\n",
       "       'West Virginia', 'Wisconsin', 'Wyoming', 'Channel Islands',\n",
       "       'Gibraltar', 'United Kingdom'], dtype=object)"
      ]
     },
     "execution_count": 14,
     "metadata": {},
     "output_type": "execute_result"
    }
   ],
   "source": [
    "df['Province/State'].unique()"
   ]
  },
  {
   "cell_type": "code",
   "execution_count": 15,
   "metadata": {},
   "outputs": [
    {
     "data": {
      "text/plain": [
       "54"
      ]
     },
     "execution_count": 15,
     "metadata": {},
     "output_type": "execute_result"
    }
   ],
   "source": [
    "df.Date.nunique()"
   ]
  },
  {
   "cell_type": "code",
   "execution_count": 16,
   "metadata": {},
   "outputs": [
    {
     "data": {
      "text/plain": [
       "array(['Confirmed', 'Deaths', 'Recovered', 'Active'], dtype=object)"
      ]
     },
     "execution_count": 16,
     "metadata": {},
     "output_type": "execute_result"
    }
   ],
   "source": [
    "df['Case_Type'].unique()"
   ]
  },
  {
   "cell_type": "code",
   "execution_count": 17,
   "metadata": {},
   "outputs": [
    {
     "data": {
      "text/plain": [
       "count    53064.000000\n",
       "mean       129.907282\n",
       "std       2081.054551\n",
       "min          0.000000\n",
       "25%          0.000000\n",
       "50%          0.000000\n",
       "75%          1.000000\n",
       "max      67794.000000\n",
       "Name: Cases, dtype: float64"
      ]
     },
     "execution_count": 17,
     "metadata": {},
     "output_type": "execute_result"
    }
   ],
   "source": [
    "df['Cases'].describe()"
   ]
  },
  {
   "cell_type": "code",
   "execution_count": 18,
   "metadata": {},
   "outputs": [
    {
     "data": {
      "text/plain": [
       "count    53064.000000\n",
       "mean         6.330695\n",
       "std        137.900648\n",
       "min      -2743.000000\n",
       "25%          0.000000\n",
       "50%          0.000000\n",
       "75%          0.000000\n",
       "max      14840.000000\n",
       "Name: Difference, dtype: float64"
      ]
     },
     "execution_count": 18,
     "metadata": {},
     "output_type": "execute_result"
    }
   ],
   "source": [
    "df['Difference'].describe()"
   ]
  },
  {
   "cell_type": "code",
   "execution_count": 19,
   "metadata": {},
   "outputs": [],
   "source": [
    "filtro_brazil = df['Country/Region'] == 'Brazil'"
   ]
  },
  {
   "cell_type": "code",
   "execution_count": 20,
   "metadata": {},
   "outputs": [],
   "source": [
    "filtro_ativos = df['Case_Type'] == 'Active'"
   ]
  },
  {
   "cell_type": "code",
   "execution_count": 22,
   "metadata": {},
   "outputs": [
    {
     "data": {
      "text/plain": [
       "<matplotlib.axes._subplots.AxesSubplot at 0x19e964187c8>"
      ]
     },
     "execution_count": 22,
     "metadata": {},
     "output_type": "execute_result"
    },
    {
     "data": {
      "image/png": "[encoded data removed]",
      "text/plain": [
       "<Figure size 432x288 with 1 Axes>"
      ]
     },
     "metadata": {
      "needs_background": "light"
     },
     "output_type": "display_data"
    }
   ],
   "source": [
    "df[filtro_brazil & filtro_ativos].sort_values('Date').Cases.plot()"
   ]
  },
  {
   "cell_type": "code",
   "execution_count": 43,
   "metadata": {},
   "outputs": [],
   "source": [
    "group = df[filtro_ativos].groupby(['Country/Region','Date']).Cases.sum()"
   ]
  },
  {
   "cell_type": "code",
   "execution_count": 26,
   "metadata": {},
   "outputs": [
    {
     "data": {
      "text/html": [
       "<div>\n",
       "<style scoped>\n",
       "    .dataframe tbody tr th:only-of-type {\n",
       "        vertical-align: middle;\n",
       "    }\n",
       "\n",
       "    .dataframe tbody tr th {\n",
       "        vertical-align: top;\n",
       "    }\n",
       "\n",
       "    .dataframe thead th {\n",
       "        text-align: right;\n",
       "    }\n",
       "</style>\n",
       "<table border=\"1\" class=\"dataframe\">\n",
       "  <thead>\n",
       "    <tr style=\"text-align: right;\">\n",
       "      <th></th>\n",
       "      <th>Country/Region</th>\n",
       "      <th>Date</th>\n",
       "      <th>Cases</th>\n",
       "    </tr>\n",
       "  </thead>\n",
       "  <tbody>\n",
       "    <tr>\n",
       "      <td>0</td>\n",
       "      <td>Afghanistan</td>\n",
       "      <td>2020-01-22</td>\n",
       "      <td>0</td>\n",
       "    </tr>\n",
       "    <tr>\n",
       "      <td>1</td>\n",
       "      <td>Afghanistan</td>\n",
       "      <td>2020-01-23</td>\n",
       "      <td>0</td>\n",
       "    </tr>\n",
       "    <tr>\n",
       "      <td>2</td>\n",
       "      <td>Afghanistan</td>\n",
       "      <td>2020-01-24</td>\n",
       "      <td>0</td>\n",
       "    </tr>\n",
       "    <tr>\n",
       "      <td>3</td>\n",
       "      <td>Afghanistan</td>\n",
       "      <td>2020-01-25</td>\n",
       "      <td>0</td>\n",
       "    </tr>\n",
       "    <tr>\n",
       "      <td>4</td>\n",
       "      <td>Afghanistan</td>\n",
       "      <td>2020-01-26</td>\n",
       "      <td>0</td>\n",
       "    </tr>\n",
       "    <tr>\n",
       "      <td>...</td>\n",
       "      <td>...</td>\n",
       "      <td>...</td>\n",
       "      <td>...</td>\n",
       "    </tr>\n",
       "    <tr>\n",
       "      <td>7933</td>\n",
       "      <td>Vietnam</td>\n",
       "      <td>2020-03-11</td>\n",
       "      <td>22</td>\n",
       "    </tr>\n",
       "    <tr>\n",
       "      <td>7934</td>\n",
       "      <td>Vietnam</td>\n",
       "      <td>2020-03-12</td>\n",
       "      <td>23</td>\n",
       "    </tr>\n",
       "    <tr>\n",
       "      <td>7935</td>\n",
       "      <td>Vietnam</td>\n",
       "      <td>2020-03-13</td>\n",
       "      <td>31</td>\n",
       "    </tr>\n",
       "    <tr>\n",
       "      <td>7936</td>\n",
       "      <td>Vietnam</td>\n",
       "      <td>2020-03-14</td>\n",
       "      <td>37</td>\n",
       "    </tr>\n",
       "    <tr>\n",
       "      <td>7937</td>\n",
       "      <td>Vietnam</td>\n",
       "      <td>2020-03-15</td>\n",
       "      <td>40</td>\n",
       "    </tr>\n",
       "  </tbody>\n",
       "</table>\n",
       "<p>7938 rows × 3 columns</p>\n",
       "</div>"
      ],
      "text/plain": [
       "     Country/Region       Date  Cases\n",
       "0       Afghanistan 2020-01-22      0\n",
       "1       Afghanistan 2020-01-23      0\n",
       "2       Afghanistan 2020-01-24      0\n",
       "3       Afghanistan 2020-01-25      0\n",
       "4       Afghanistan 2020-01-26      0\n",
       "...             ...        ...    ...\n",
       "7933        Vietnam 2020-03-11     22\n",
       "7934        Vietnam 2020-03-12     23\n",
       "7935        Vietnam 2020-03-13     31\n",
       "7936        Vietnam 2020-03-14     37\n",
       "7937        Vietnam 2020-03-15     40\n",
       "\n",
       "[7938 rows x 3 columns]"
      ]
     },
     "execution_count": 26,
     "metadata": {},
     "output_type": "execute_result"
    }
   ],
   "source": [
    "group = group.reset_index()\n",
    "group"
   ]
  },
  {
   "cell_type": "code",
   "execution_count": 27,
   "metadata": {},
   "outputs": [
    {
     "data": {
      "text/plain": [
       "<matplotlib.axes._subplots.AxesSubplot at 0x19e99258688>"
      ]
     },
     "execution_count": 27,
     "metadata": {},
     "output_type": "execute_result"
    },
    {
     "data": {
      "image/png": "[encoded data removed]",
      "text/plain": [
       "<Figure size 432x288 with 1 Axes>"
      ]
     },
     "metadata": {
      "needs_background": "light"
     },
     "output_type": "display_data"
    }
   ],
   "source": [
    "group[group['Country/Region'] == 'China'].sort_values('Date').Cases.plot()"
   ]
  },
  {
   "cell_type": "code",
   "execution_count": 28,
   "metadata": {},
   "outputs": [
    {
     "data": {
      "text/plain": [
       "<matplotlib.axes._subplots.AxesSubplot at 0x19e993f3488>"
      ]
     },
     "execution_count": 28,
     "metadata": {},
     "output_type": "execute_result"
    },
    {
     "data": {
      "image/png": "[encoded data removed]",
      "text/plain": [
       "<Figure size 432x288 with 1 Axes>"
      ]
     },
     "metadata": {
      "needs_background": "light"
     },
     "output_type": "display_data"
    }
   ],
   "source": [
    "group[group['Country/Region'] == 'China'].sort_values('Date').plot(x='Date',y='Cases')"
   ]
  },
  {
   "cell_type": "code",
   "execution_count": 29,
   "metadata": {},
   "outputs": [
    {
     "data": {
      "text/plain": [
       "<matplotlib.axes._subplots.AxesSubplot at 0x19e9966f988>"
      ]
     },
     "execution_count": 29,
     "metadata": {},
     "output_type": "execute_result"
    },
    {
     "data": {
      "image/png": "[encoded data removed]",
      "text/plain": [
       "<Figure size 432x288 with 1 Axes>"
      ]
     },
     "metadata": {
      "needs_background": "light"
     },
     "output_type": "display_data"
    }
   ],
   "source": [
    "filtro_italia = df['Country/Region'] == 'Italy'\n",
    "df[filtro_italia & filtro_ativos].sort_values('Date').plot(x='Date',y='Cases')"
   ]
  },
  {
   "cell_type": "code",
   "execution_count": 30,
   "metadata": {},
   "outputs": [
    {
     "data": {
      "text/html": [
       "<div>\n",
       "<style scoped>\n",
       "    .dataframe tbody tr th:only-of-type {\n",
       "        vertical-align: middle;\n",
       "    }\n",
       "\n",
       "    .dataframe tbody tr th {\n",
       "        vertical-align: top;\n",
       "    }\n",
       "\n",
       "    .dataframe thead th {\n",
       "        text-align: right;\n",
       "    }\n",
       "</style>\n",
       "<table border=\"1\" class=\"dataframe\">\n",
       "  <thead>\n",
       "    <tr style=\"text-align: right;\">\n",
       "      <th></th>\n",
       "      <th>Country/Region</th>\n",
       "      <th>Province/State</th>\n",
       "      <th>Date</th>\n",
       "      <th>Case_Type</th>\n",
       "      <th>Cases</th>\n",
       "      <th>Long</th>\n",
       "      <th>Lat</th>\n",
       "      <th>Difference</th>\n",
       "      <th>Last_Update_Date</th>\n",
       "    </tr>\n",
       "  </thead>\n",
       "  <tbody>\n",
       "    <tr>\n",
       "      <td>5346</td>\n",
       "      <td>France</td>\n",
       "      <td>France</td>\n",
       "      <td>2020-01-22</td>\n",
       "      <td>Confirmed</td>\n",
       "      <td>0</td>\n",
       "      <td>2.2137</td>\n",
       "      <td>46.2276</td>\n",
       "      <td>0</td>\n",
       "      <td>2020-03-16 12:08:25</td>\n",
       "    </tr>\n",
       "    <tr>\n",
       "      <td>5347</td>\n",
       "      <td>France</td>\n",
       "      <td>France</td>\n",
       "      <td>2020-01-23</td>\n",
       "      <td>Confirmed</td>\n",
       "      <td>0</td>\n",
       "      <td>2.2137</td>\n",
       "      <td>46.2276</td>\n",
       "      <td>0</td>\n",
       "      <td>2020-03-16 12:08:25</td>\n",
       "    </tr>\n",
       "    <tr>\n",
       "      <td>5348</td>\n",
       "      <td>France</td>\n",
       "      <td>France</td>\n",
       "      <td>2020-01-24</td>\n",
       "      <td>Confirmed</td>\n",
       "      <td>2</td>\n",
       "      <td>2.2137</td>\n",
       "      <td>46.2276</td>\n",
       "      <td>2</td>\n",
       "      <td>2020-03-16 12:08:25</td>\n",
       "    </tr>\n",
       "    <tr>\n",
       "      <td>5349</td>\n",
       "      <td>France</td>\n",
       "      <td>France</td>\n",
       "      <td>2020-01-25</td>\n",
       "      <td>Confirmed</td>\n",
       "      <td>3</td>\n",
       "      <td>2.2137</td>\n",
       "      <td>46.2276</td>\n",
       "      <td>1</td>\n",
       "      <td>2020-03-16 12:08:25</td>\n",
       "    </tr>\n",
       "    <tr>\n",
       "      <td>5350</td>\n",
       "      <td>France</td>\n",
       "      <td>France</td>\n",
       "      <td>2020-01-26</td>\n",
       "      <td>Confirmed</td>\n",
       "      <td>3</td>\n",
       "      <td>2.2137</td>\n",
       "      <td>46.2276</td>\n",
       "      <td>0</td>\n",
       "      <td>2020-03-16 12:08:25</td>\n",
       "    </tr>\n",
       "    <tr>\n",
       "      <td>...</td>\n",
       "      <td>...</td>\n",
       "      <td>...</td>\n",
       "      <td>...</td>\n",
       "      <td>...</td>\n",
       "      <td>...</td>\n",
       "      <td>...</td>\n",
       "      <td>...</td>\n",
       "      <td>...</td>\n",
       "      <td>...</td>\n",
       "    </tr>\n",
       "    <tr>\n",
       "      <td>45463</td>\n",
       "      <td>France</td>\n",
       "      <td>St Martin</td>\n",
       "      <td>2020-03-11</td>\n",
       "      <td>Active</td>\n",
       "      <td>2</td>\n",
       "      <td>-63.0501</td>\n",
       "      <td>18.0708</td>\n",
       "      <td>0</td>\n",
       "      <td>2020-03-16 12:08:25</td>\n",
       "    </tr>\n",
       "    <tr>\n",
       "      <td>45464</td>\n",
       "      <td>France</td>\n",
       "      <td>St Martin</td>\n",
       "      <td>2020-03-12</td>\n",
       "      <td>Active</td>\n",
       "      <td>2</td>\n",
       "      <td>-63.0501</td>\n",
       "      <td>18.0708</td>\n",
       "      <td>0</td>\n",
       "      <td>2020-03-16 12:08:25</td>\n",
       "    </tr>\n",
       "    <tr>\n",
       "      <td>45465</td>\n",
       "      <td>France</td>\n",
       "      <td>St Martin</td>\n",
       "      <td>2020-03-13</td>\n",
       "      <td>Active</td>\n",
       "      <td>2</td>\n",
       "      <td>-63.0501</td>\n",
       "      <td>18.0708</td>\n",
       "      <td>0</td>\n",
       "      <td>2020-03-16 12:08:25</td>\n",
       "    </tr>\n",
       "    <tr>\n",
       "      <td>45466</td>\n",
       "      <td>France</td>\n",
       "      <td>St Martin</td>\n",
       "      <td>2020-03-14</td>\n",
       "      <td>Active</td>\n",
       "      <td>2</td>\n",
       "      <td>-63.0501</td>\n",
       "      <td>18.0708</td>\n",
       "      <td>0</td>\n",
       "      <td>2020-03-16 12:08:25</td>\n",
       "    </tr>\n",
       "    <tr>\n",
       "      <td>45467</td>\n",
       "      <td>France</td>\n",
       "      <td>St Martin</td>\n",
       "      <td>2020-03-15</td>\n",
       "      <td>Active</td>\n",
       "      <td>2</td>\n",
       "      <td>-63.0501</td>\n",
       "      <td>18.0708</td>\n",
       "      <td>0</td>\n",
       "      <td>2020-03-16 12:08:25</td>\n",
       "    </tr>\n",
       "  </tbody>\n",
       "</table>\n",
       "<p>1296 rows × 9 columns</p>\n",
       "</div>"
      ],
      "text/plain": [
       "      Country/Region Province/State       Date  Case_Type  Cases     Long  \\\n",
       "5346          France         France 2020-01-22  Confirmed      0   2.2137   \n",
       "5347          France         France 2020-01-23  Confirmed      0   2.2137   \n",
       "5348          France         France 2020-01-24  Confirmed      2   2.2137   \n",
       "5349          France         France 2020-01-25  Confirmed      3   2.2137   \n",
       "5350          France         France 2020-01-26  Confirmed      3   2.2137   \n",
       "...              ...            ...        ...        ...    ...      ...   \n",
       "45463         France      St Martin 2020-03-11     Active      2 -63.0501   \n",
       "45464         France      St Martin 2020-03-12     Active      2 -63.0501   \n",
       "45465         France      St Martin 2020-03-13     Active      2 -63.0501   \n",
       "45466         France      St Martin 2020-03-14     Active      2 -63.0501   \n",
       "45467         France      St Martin 2020-03-15     Active      2 -63.0501   \n",
       "\n",
       "           Lat  Difference    Last_Update_Date  \n",
       "5346   46.2276           0 2020-03-16 12:08:25  \n",
       "5347   46.2276           0 2020-03-16 12:08:25  \n",
       "5348   46.2276           2 2020-03-16 12:08:25  \n",
       "5349   46.2276           1 2020-03-16 12:08:25  \n",
       "5350   46.2276           0 2020-03-16 12:08:25  \n",
       "...        ...         ...                 ...  \n",
       "45463  18.0708           0 2020-03-16 12:08:25  \n",
       "45464  18.0708           0 2020-03-16 12:08:25  \n",
       "45465  18.0708           0 2020-03-16 12:08:25  \n",
       "45466  18.0708           0 2020-03-16 12:08:25  \n",
       "45467  18.0708           0 2020-03-16 12:08:25  \n",
       "\n",
       "[1296 rows x 9 columns]"
      ]
     },
     "execution_count": 30,
     "metadata": {},
     "output_type": "execute_result"
    }
   ],
   "source": [
    "df[df['Country/Region'] == 'France']"
   ]
  },
  {
   "cell_type": "code",
   "execution_count": 32,
   "metadata": {},
   "outputs": [
    {
     "data": {
      "text/plain": [
       "<matplotlib.axes._subplots.AxesSubplot at 0x19e99755348>"
      ]
     },
     "execution_count": 32,
     "metadata": {},
     "output_type": "execute_result"
    },
    {
     "data": {
      "image/png": "[encoded data removed]",
      "text/plain": [
       "<Figure size 432x288 with 1 Axes>"
      ]
     },
     "metadata": {
      "needs_background": "light"
     },
     "output_type": "display_data"
    }
   ],
   "source": [
    "group[group['Country/Region'] == 'France'].sort_values('Date').plot(x='Date',y='Cases')"
   ]
  },
  {
   "cell_type": "code",
   "execution_count": 35,
   "metadata": {},
   "outputs": [
    {
     "data": {
      "text/plain": [
       "<matplotlib.axes._subplots.AxesSubplot at 0x19e99a00a88>"
      ]
     },
     "execution_count": 35,
     "metadata": {},
     "output_type": "execute_result"
    },
    {
     "data": {
      "image/png": "[encoded data removed]",
      "text/plain": [
       "<Figure size 1152x576 with 1 Axes>"
      ]
     },
     "metadata": {
      "needs_background": "light"
     },
     "output_type": "display_data"
    }
   ],
   "source": [
    "filtro_irlanda = df['Country/Region'] == 'Ireland'\n",
    "df[filtro_irlanda & filtro_ativos].sort_values('Date').plot(x='Date',y='Cases',figsize=[16,8])"
   ]
  },
  {
   "cell_type": "code",
   "execution_count": 36,
   "metadata": {},
   "outputs": [
    {
     "data": {
      "text/plain": [
       "<matplotlib.axes._subplots.AxesSubplot at 0x19e99f84048>"
      ]
     },
     "execution_count": 36,
     "metadata": {},
     "output_type": "execute_result"
    },
    {
     "data": {
      "image/png": "[encoded data removed]",
      "text/plain": [
       "<Figure size 432x288 with 1 Axes>"
      ]
     },
     "metadata": {
      "needs_background": "light"
     },
     "output_type": "display_data"
    }
   ],
   "source": [
    "filtro_italia = df['Country/Region'] == 'Italy'\n",
    "df[filtro_italia & filtro_ativos].sort_values('Date').plot(x='Date',y='Cases')"
   ]
  },
  {
   "cell_type": "markdown",
   "metadata": {},
   "source": [
    "# Percentual de mortes por país"
   ]
  },
  {
   "cell_type": "code",
   "execution_count": 48,
   "metadata": {},
   "outputs": [],
   "source": [
    "group2 = df.groupby(['Country/Region','Case_Type']).Cases.sum()"
   ]
  },
  {
   "cell_type": "code",
   "execution_count": 49,
   "metadata": {},
   "outputs": [],
   "source": [
    "group2 = group2.reset_index()"
   ]
  },
  {
   "cell_type": "code",
   "execution_count": 50,
   "metadata": {},
   "outputs": [],
   "source": [
    "filtro_af = group2['Country/Region'] == 'Afghanistan'"
   ]
  },
  {
   "cell_type": "code",
   "execution_count": 51,
   "metadata": {},
   "outputs": [
    {
     "data": {
      "text/html": [
       "<div>\n",
       "<style scoped>\n",
       "    .dataframe tbody tr th:only-of-type {\n",
       "        vertical-align: middle;\n",
       "    }\n",
       "\n",
       "    .dataframe tbody tr th {\n",
       "        vertical-align: top;\n",
       "    }\n",
       "\n",
       "    .dataframe thead th {\n",
       "        text-align: right;\n",
       "    }\n",
       "</style>\n",
       "<table border=\"1\" class=\"dataframe\">\n",
       "  <thead>\n",
       "    <tr style=\"text-align: right;\">\n",
       "      <th></th>\n",
       "      <th>Country/Region</th>\n",
       "      <th>Case_Type</th>\n",
       "      <th>Cases</th>\n",
       "    </tr>\n",
       "  </thead>\n",
       "  <tbody>\n",
       "    <tr>\n",
       "      <td>0</td>\n",
       "      <td>Afghanistan</td>\n",
       "      <td>Active</td>\n",
       "      <td>74</td>\n",
       "    </tr>\n",
       "    <tr>\n",
       "      <td>1</td>\n",
       "      <td>Afghanistan</td>\n",
       "      <td>Confirmed</td>\n",
       "      <td>74</td>\n",
       "    </tr>\n",
       "    <tr>\n",
       "      <td>2</td>\n",
       "      <td>Afghanistan</td>\n",
       "      <td>Deaths</td>\n",
       "      <td>0</td>\n",
       "    </tr>\n",
       "    <tr>\n",
       "      <td>3</td>\n",
       "      <td>Afghanistan</td>\n",
       "      <td>Recovered</td>\n",
       "      <td>0</td>\n",
       "    </tr>\n",
       "  </tbody>\n",
       "</table>\n",
       "</div>"
      ],
      "text/plain": [
       "  Country/Region  Case_Type  Cases\n",
       "0    Afghanistan     Active     74\n",
       "1    Afghanistan  Confirmed     74\n",
       "2    Afghanistan     Deaths      0\n",
       "3    Afghanistan  Recovered      0"
      ]
     },
     "execution_count": 51,
     "metadata": {},
     "output_type": "execute_result"
    }
   ],
   "source": [
    "group2[filtro_af]"
   ]
  },
  {
   "cell_type": "code",
   "execution_count": null,
   "metadata": {},
   "outputs": [],
   "source": []
  },
  {
   "cell_type": "raw",
   "metadata": {},
   "source": []
  },
  {
   "cell_type": "code",
   "execution_count": null,
   "metadata": {},
   "outputs": [],
   "source": []
  },
  {
   "cell_type": "code",
   "execution_count": 52,
   "metadata": {},
   "outputs": [],
   "source": [
    "filtro_it = group2['Country/Region'] == 'Italy'\n",
    "filtro_fr = group2['Country/Region'] == 'France'\n",
    "filtro_ir = group2['Country/Region'] == 'Ireland'\n",
    "filtro_ch = group2['Country/Region'] == 'China'"
   ]
  },
  {
   "cell_type": "code",
   "execution_count": 60,
   "metadata": {},
   "outputs": [
    {
     "data": {
      "text/plain": [
       "276     True\n",
       "277    False\n",
       "278    False\n",
       "279    False\n",
       "Name: Case_Type, dtype: bool"
      ]
     },
     "execution_count": 60,
     "metadata": {},
     "output_type": "execute_result"
    }
   ],
   "source": [
    "group2[filtro_it].Case_Type == 'Active'"
   ]
  },
  {
   "cell_type": "code",
   "execution_count": 54,
   "metadata": {},
   "outputs": [],
   "source": [
    "filtro_confirmado = group2.Case_Type == 'Confirmed'\n",
    "filtro_mortes = group2.Case_Type == 'Deaths'"
   ]
  },
  {
   "cell_type": "code",
   "execution_count": 55,
   "metadata": {},
   "outputs": [
    {
     "data": {
      "text/plain": [
       "277    142850\n",
       "Name: Cases, dtype: int64"
      ]
     },
     "execution_count": 55,
     "metadata": {},
     "output_type": "execute_result"
    }
   ],
   "source": [
    "group2[filtro_it & filtro_confirmado].Cases"
   ]
  },
  {
   "cell_type": "code",
   "execution_count": 56,
   "metadata": {},
   "outputs": [
    {
     "data": {
      "text/plain": [
       "278    8582\n",
       "Name: Cases, dtype: int64"
      ]
     },
     "execution_count": 56,
     "metadata": {},
     "output_type": "execute_result"
    }
   ],
   "source": [
    "group2[filtro_it & filtro_mortes].Cases"
   ]
  },
  {
   "cell_type": "code",
   "execution_count": 67,
   "metadata": {},
   "outputs": [
    {
     "data": {
      "text/plain": [
       "array([0.060077])"
      ]
     },
     "execution_count": 67,
     "metadata": {},
     "output_type": "execute_result"
    }
   ],
   "source": [
    "group2[filtro_it & filtro_mortes].Cases.values/group2[filtro_it & filtro_confirmado].Cases.values"
   ]
  },
  {
   "cell_type": "code",
   "execution_count": 68,
   "metadata": {},
   "outputs": [],
   "source": [
    "def mortalidade(filtro_pais):\n",
    "    return group2[filtro_pais & filtro_mortes].Cases.values/group2[filtro_pais & filtro_confirmado].Cases.values"
   ]
  },
  {
   "cell_type": "code",
   "execution_count": 69,
   "metadata": {},
   "outputs": [
    {
     "data": {
      "text/plain": [
       "array([0.060077])"
      ]
     },
     "execution_count": 69,
     "metadata": {},
     "output_type": "execute_result"
    }
   ],
   "source": [
    "mortalidade(filtro_it)"
   ]
  },
  {
   "cell_type": "code",
   "execution_count": null,
   "metadata": {},
   "outputs": [],
   "source": []
  },
  {
   "cell_type": "code",
   "execution_count": 70,
   "metadata": {},
   "outputs": [
    {
     "name": "stdout",
     "output_type": "stream",
     "text": [
      "Italy 6.0%\n"
     ]
    }
   ],
   "source": [
    "print('{} {}%'.format('Italy',round(mortalidade(filtro_it)[0],2)*100))"
   ]
  },
  {
   "cell_type": "code",
   "execution_count": null,
   "metadata": {},
   "outputs": [],
   "source": []
  },
  {
   "cell_type": "code",
   "execution_count": 71,
   "metadata": {},
   "outputs": [
    {
     "data": {
      "text/plain": [
       "array(['Afghanistan', 'Albania', 'Algeria', 'Andorra',\n",
       "       'Antigua and Barbuda'], dtype=object)"
      ]
     },
     "execution_count": 71,
     "metadata": {},
     "output_type": "execute_result"
    }
   ],
   "source": [
    "group2['Country/Region'].unique()[:5]"
   ]
  },
  {
   "cell_type": "code",
   "execution_count": 73,
   "metadata": {},
   "outputs": [
    {
     "name": "stdout",
     "output_type": "stream",
     "text": [
      "Taxa de mortalidade por país:/n/nAfghanistan 0.0%\n",
      "Albania 3.0%\n",
      "Algeria 3.0%\n",
      "Andorra 0.0%\n",
      "Antigua and Barbuda 0.0%\n",
      "Argentina 5.0%\n",
      "Armenia 0.0%\n",
      "Aruba 0.0%\n",
      "Australia 2.0%\n",
      "Austria 0.0%\n",
      "Azerbaijan 2.0%\n",
      "Bahrain 0.0%\n",
      "Bangladesh 0.0%\n",
      "Belarus 0.0%\n",
      "Belgium 0.0%\n",
      "Bhutan 0.0%\n",
      "Bolivia 0.0%\n",
      "Bosnia and Herzegovina 0.0%\n",
      "Brazil 0.0%\n",
      "Brunei 0.0%\n",
      "Bulgaria 5.0%\n",
      "Burkina Faso 0.0%\n",
      "Cambodia 0.0%\n",
      "Cameroon 0.0%\n",
      "Canada 0.0%\n",
      "Cayman Islands 0.0%\n",
      "Central African Republic 0.0%\n",
      "Chile 0.0%\n",
      "China 3.0%\n",
      "Colombia 0.0%\n",
      "Congo (Brazzaville) 0.0%\n",
      "Congo (Kinshasa) 0.0%\n",
      "Costa Rica 0.0%\n",
      "Cote d'Ivoire 0.0%\n",
      "Croatia 0.0%\n",
      "Cruise Ship 1.0%\n",
      "Cuba 0.0%\n",
      "Curacao 0.0%\n",
      "Cyprus 0.0%\n",
      "Czechia 0.0%\n",
      "Denmark 0.0%\n",
      "Dominican Republic 0.0%\n",
      "Ecuador 2.0%\n",
      "Egypt 2.0%\n",
      "Equatorial Guinea 0.0%\n",
      "Estonia 0.0%\n",
      "Eswatini 0.0%\n",
      "Ethiopia 0.0%\n",
      "Finland 0.0%\n",
      "France 2.0%\n",
      "Gabon 0.0%\n",
      "Georgia 0.0%\n",
      "Germany 0.0%\n",
      "Ghana 0.0%\n",
      "Greece 1.0%\n",
      "Guadeloupe 0.0%\n",
      "Guatemala 0.0%\n",
      "Guernsey 0.0%\n",
      "Guinea 0.0%\n",
      "Guyana 56.99999999999999%\n",
      "Honduras 0.0%\n",
      "Hungary 1.0%\n",
      "Iceland 0.0%\n",
      "India 1.0%\n",
      "Indonesia 4.0%\n",
      "Iran 4.0%\n",
      "Iraq 8.0%\n",
      "Ireland 1.0%\n",
      "Israel 0.0%\n",
      "Italy 6.0%\n",
      "Jamaica 0.0%\n",
      "Japan 2.0%\n",
      "Jersey 0.0%\n",
      "Jordan 0.0%\n",
      "Kazakhstan 0.0%\n",
      "Kenya 0.0%\n",
      "Korea, South 1.0%\n",
      "Kosovo 0.0%\n",
      "Kuwait 0.0%\n",
      "Latvia 0.0%\n",
      "Lebanon 3.0%\n",
      "Liechtenstein 0.0%\n",
      "Lithuania 0.0%\n",
      "Luxembourg 1.0%\n",
      "Malaysia 0.0%\n",
      "Maldives 0.0%\n",
      "Malta 0.0%\n",
      "Martinique 0.0%\n",
      "Mauritania 0.0%\n",
      "Mexico 0.0%\n",
      "Moldova 0.0%\n",
      "Monaco 0.0%\n",
      "Mongolia 0.0%\n",
      "Morocco 8.0%\n",
      "Namibia 0.0%\n",
      "Nepal 0.0%\n",
      "Netherlands 1.0%\n",
      "New Zealand 0.0%\n",
      "Nigeria 0.0%\n",
      "North Macedonia 0.0%\n",
      "Norway 0.0%\n",
      "Oman 0.0%\n",
      "Pakistan 0.0%\n",
      "Palestine nan%\n",
      "Panama 4.0%\n",
      "Paraguay 0.0%\n",
      "Peru 0.0%\n",
      "Philippines 11.0%\n",
      "Poland 2.0%\n",
      "Portugal 0.0%\n",
      "Qatar 0.0%\n",
      "Reunion 0.0%\n",
      "Romania 0.0%\n",
      "Russia 0.0%\n",
      "Rwanda 0.0%\n",
      "Saint Lucia 0.0%\n",
      "Saint Vincent and the Grenadines 0.0%\n",
      "San Marino 5.0%\n",
      "Saudi Arabia 0.0%\n",
      "Senegal 0.0%\n",
      "Serbia 0.0%\n",
      "Seychelles 0.0%\n",
      "Singapore 0.0%\n",
      "Slovakia 0.0%\n",
      "Slovenia 0.0%\n",
      "South Africa 0.0%\n",
      "Spain 3.0%\n",
      "Sri Lanka 0.0%\n",
      "Sudan 100.0%\n",
      "Suriname 0.0%\n",
      "Sweden 0.0%\n",
      "Switzerland 1.0%\n",
      "Taiwan* 2.0%\n",
      "Thailand 1.0%\n",
      "Togo 0.0%\n",
      "Trinidad and Tobago 0.0%\n",
      "Tunisia 0.0%\n",
      "Turkey 0.0%\n",
      "US 3.0%\n",
      "Ukraine 16.0%\n",
      "United Arab Emirates 0.0%\n",
      "United Kingdom 1.0%\n",
      "Uruguay 0.0%\n",
      "Uzbekistan 0.0%\n",
      "Vatican City 0.0%\n",
      "Venezuela 0.0%\n",
      "Vietnam 0.0%\n"
     ]
    },
    {
     "name": "stderr",
     "output_type": "stream",
     "text": [
      "C:\\Users\\Rogerio\\Anaconda3\\lib\\site-packages\\ipykernel_launcher.py:2: RuntimeWarning: invalid value encountered in true_divide\n",
      "  \n"
     ]
    }
   ],
   "source": [
    "print('Taxa de mortalidade por país:', end='/n/n')\n",
    "for pais in group2['Country/Region'].unique(): \n",
    "    filtro_pais = group2['Country/Region'] == pais\n",
    "    print('{} {}%'.format(pais,round(mortalidade(filtro_pais)[0],2)*100))\n",
    "    "
   ]
  },
  {
   "cell_type": "markdown",
   "metadata": {},
   "source": [
    "## Observar: Philippiens, Ukraine"
   ]
  },
  {
   "cell_type": "code",
   "execution_count": 76,
   "metadata": {},
   "outputs": [
    {
     "data": {
      "text/plain": [
       "array([nan], dtype=object)"
      ]
     },
     "execution_count": 76,
     "metadata": {},
     "output_type": "execute_result"
    }
   ],
   "source": [
    "df[df['Country/Region'] == 'Philippines']['Province/State'].unique()"
   ]
  },
  {
   "cell_type": "code",
   "execution_count": 79,
   "metadata": {},
   "outputs": [
    {
     "data": {
      "text/plain": [
       "array([nan], dtype=object)"
      ]
     },
     "execution_count": 79,
     "metadata": {},
     "output_type": "execute_result"
    }
   ],
   "source": [
    "df[df['Country/Region'] == 'Ukraine']['Province/State'].unique()"
   ]
  },
  {
   "cell_type": "code",
   "execution_count": 78,
   "metadata": {},
   "outputs": [
    {
     "data": {
      "text/html": [
       "<div>\n",
       "<style scoped>\n",
       "    .dataframe tbody tr th:only-of-type {\n",
       "        vertical-align: middle;\n",
       "    }\n",
       "\n",
       "    .dataframe tbody tr th {\n",
       "        vertical-align: top;\n",
       "    }\n",
       "\n",
       "    .dataframe thead th {\n",
       "        text-align: right;\n",
       "    }\n",
       "</style>\n",
       "<table border=\"1\" class=\"dataframe\">\n",
       "  <thead>\n",
       "    <tr style=\"text-align: right;\">\n",
       "      <th></th>\n",
       "      <th>Country/Region</th>\n",
       "      <th>Province/State</th>\n",
       "      <th>Date</th>\n",
       "      <th>Case_Type</th>\n",
       "      <th>Cases</th>\n",
       "      <th>Long</th>\n",
       "      <th>Lat</th>\n",
       "      <th>Difference</th>\n",
       "      <th>Last_Update_Date</th>\n",
       "    </tr>\n",
       "  </thead>\n",
       "  <tbody>\n",
       "    <tr>\n",
       "      <td>12726</td>\n",
       "      <td>Ukraine</td>\n",
       "      <td>NaN</td>\n",
       "      <td>2020-01-22</td>\n",
       "      <td>Confirmed</td>\n",
       "      <td>0</td>\n",
       "      <td>31.1656</td>\n",
       "      <td>48.3794</td>\n",
       "      <td>0</td>\n",
       "      <td>2020-03-16 12:08:25</td>\n",
       "    </tr>\n",
       "    <tr>\n",
       "      <td>12727</td>\n",
       "      <td>Ukraine</td>\n",
       "      <td>NaN</td>\n",
       "      <td>2020-01-23</td>\n",
       "      <td>Confirmed</td>\n",
       "      <td>0</td>\n",
       "      <td>31.1656</td>\n",
       "      <td>48.3794</td>\n",
       "      <td>0</td>\n",
       "      <td>2020-03-16 12:08:25</td>\n",
       "    </tr>\n",
       "    <tr>\n",
       "      <td>12728</td>\n",
       "      <td>Ukraine</td>\n",
       "      <td>NaN</td>\n",
       "      <td>2020-01-24</td>\n",
       "      <td>Confirmed</td>\n",
       "      <td>0</td>\n",
       "      <td>31.1656</td>\n",
       "      <td>48.3794</td>\n",
       "      <td>0</td>\n",
       "      <td>2020-03-16 12:08:25</td>\n",
       "    </tr>\n",
       "    <tr>\n",
       "      <td>12729</td>\n",
       "      <td>Ukraine</td>\n",
       "      <td>NaN</td>\n",
       "      <td>2020-01-25</td>\n",
       "      <td>Confirmed</td>\n",
       "      <td>0</td>\n",
       "      <td>31.1656</td>\n",
       "      <td>48.3794</td>\n",
       "      <td>0</td>\n",
       "      <td>2020-03-16 12:08:25</td>\n",
       "    </tr>\n",
       "    <tr>\n",
       "      <td>12730</td>\n",
       "      <td>Ukraine</td>\n",
       "      <td>NaN</td>\n",
       "      <td>2020-01-26</td>\n",
       "      <td>Confirmed</td>\n",
       "      <td>0</td>\n",
       "      <td>31.1656</td>\n",
       "      <td>48.3794</td>\n",
       "      <td>0</td>\n",
       "      <td>2020-03-16 12:08:25</td>\n",
       "    </tr>\n",
       "    <tr>\n",
       "      <td>...</td>\n",
       "      <td>...</td>\n",
       "      <td>...</td>\n",
       "      <td>...</td>\n",
       "      <td>...</td>\n",
       "      <td>...</td>\n",
       "      <td>...</td>\n",
       "      <td>...</td>\n",
       "      <td>...</td>\n",
       "      <td>...</td>\n",
       "    </tr>\n",
       "    <tr>\n",
       "      <td>52573</td>\n",
       "      <td>Ukraine</td>\n",
       "      <td>NaN</td>\n",
       "      <td>2020-03-11</td>\n",
       "      <td>Active</td>\n",
       "      <td>1</td>\n",
       "      <td>31.1656</td>\n",
       "      <td>48.3794</td>\n",
       "      <td>0</td>\n",
       "      <td>2020-03-16 12:08:25</td>\n",
       "    </tr>\n",
       "    <tr>\n",
       "      <td>52574</td>\n",
       "      <td>Ukraine</td>\n",
       "      <td>NaN</td>\n",
       "      <td>2020-03-12</td>\n",
       "      <td>Active</td>\n",
       "      <td>1</td>\n",
       "      <td>31.1656</td>\n",
       "      <td>48.3794</td>\n",
       "      <td>0</td>\n",
       "      <td>2020-03-16 12:08:25</td>\n",
       "    </tr>\n",
       "    <tr>\n",
       "      <td>52575</td>\n",
       "      <td>Ukraine</td>\n",
       "      <td>NaN</td>\n",
       "      <td>2020-03-13</td>\n",
       "      <td>Active</td>\n",
       "      <td>2</td>\n",
       "      <td>31.1656</td>\n",
       "      <td>48.3794</td>\n",
       "      <td>1</td>\n",
       "      <td>2020-03-16 12:08:25</td>\n",
       "    </tr>\n",
       "    <tr>\n",
       "      <td>52576</td>\n",
       "      <td>Ukraine</td>\n",
       "      <td>NaN</td>\n",
       "      <td>2020-03-14</td>\n",
       "      <td>Active</td>\n",
       "      <td>2</td>\n",
       "      <td>31.1656</td>\n",
       "      <td>48.3794</td>\n",
       "      <td>0</td>\n",
       "      <td>2020-03-16 12:08:25</td>\n",
       "    </tr>\n",
       "    <tr>\n",
       "      <td>52577</td>\n",
       "      <td>Ukraine</td>\n",
       "      <td>NaN</td>\n",
       "      <td>2020-03-15</td>\n",
       "      <td>Active</td>\n",
       "      <td>2</td>\n",
       "      <td>31.1656</td>\n",
       "      <td>48.3794</td>\n",
       "      <td>0</td>\n",
       "      <td>2020-03-16 12:08:25</td>\n",
       "    </tr>\n",
       "  </tbody>\n",
       "</table>\n",
       "<p>216 rows × 9 columns</p>\n",
       "</div>"
      ],
      "text/plain": [
       "      Country/Region Province/State       Date  Case_Type  Cases     Long  \\\n",
       "12726        Ukraine            NaN 2020-01-22  Confirmed      0  31.1656   \n",
       "12727        Ukraine            NaN 2020-01-23  Confirmed      0  31.1656   \n",
       "12728        Ukraine            NaN 2020-01-24  Confirmed      0  31.1656   \n",
       "12729        Ukraine            NaN 2020-01-25  Confirmed      0  31.1656   \n",
       "12730        Ukraine            NaN 2020-01-26  Confirmed      0  31.1656   \n",
       "...              ...            ...        ...        ...    ...      ...   \n",
       "52573        Ukraine            NaN 2020-03-11     Active      1  31.1656   \n",
       "52574        Ukraine            NaN 2020-03-12     Active      1  31.1656   \n",
       "52575        Ukraine            NaN 2020-03-13     Active      2  31.1656   \n",
       "52576        Ukraine            NaN 2020-03-14     Active      2  31.1656   \n",
       "52577        Ukraine            NaN 2020-03-15     Active      2  31.1656   \n",
       "\n",
       "           Lat  Difference    Last_Update_Date  \n",
       "12726  48.3794           0 2020-03-16 12:08:25  \n",
       "12727  48.3794           0 2020-03-16 12:08:25  \n",
       "12728  48.3794           0 2020-03-16 12:08:25  \n",
       "12729  48.3794           0 2020-03-16 12:08:25  \n",
       "12730  48.3794           0 2020-03-16 12:08:25  \n",
       "...        ...         ...                 ...  \n",
       "52573  48.3794           0 2020-03-16 12:08:25  \n",
       "52574  48.3794           0 2020-03-16 12:08:25  \n",
       "52575  48.3794           1 2020-03-16 12:08:25  \n",
       "52576  48.3794           0 2020-03-16 12:08:25  \n",
       "52577  48.3794           0 2020-03-16 12:08:25  \n",
       "\n",
       "[216 rows x 9 columns]"
      ]
     },
     "execution_count": 78,
     "metadata": {},
     "output_type": "execute_result"
    }
   ],
   "source": [
    "df[df['Country/Region'] == 'Ukraine']"
   ]
  },
  {
   "cell_type": "code",
   "execution_count": null,
   "metadata": {},
   "outputs": [],
   "source": []
  },
  {
   "cell_type": "code",
   "execution_count": 81,
   "metadata": {},
   "outputs": [
    {
     "data": {
      "text/plain": [
       "<matplotlib.axes._subplots.AxesSubplot at 0x19e9b3886c8>"
      ]
     },
     "execution_count": 81,
     "metadata": {},
     "output_type": "execute_result"
    },
    {
     "data": {
      "image/png": "[encoded data removed]",
      "text/plain": [
       "<Figure size 432x288 with 1 Axes>"
      ]
     },
     "metadata": {
      "needs_background": "light"
     },
     "output_type": "display_data"
    }
   ],
   "source": [
    "filtro_phi = df['Country/Region'] == 'Philippines'\n",
    "df[filtro_phi & filtro_ativos].sort_values('Date').plot(x='Date',y='Cases')"
   ]
  },
  {
   "cell_type": "code",
   "execution_count": null,
   "metadata": {},
   "outputs": [],
   "source": []
  },
  {
   "cell_type": "code",
   "execution_count": 80,
   "metadata": {},
   "outputs": [
    {
     "data": {
      "text/plain": [
       "<matplotlib.axes._subplots.AxesSubplot at 0x19e9b2fab08>"
      ]
     },
     "execution_count": 80,
     "metadata": {},
     "output_type": "execute_result"
    },
    {
     "data": {
      "image/png": "[encoded data removed]",
      "text/plain": [
       "<Figure size 432x288 with 1 Axes>"
      ]
     },
     "metadata": {
      "needs_background": "light"
     },
     "output_type": "display_data"
    }
   ],
   "source": [
    "filtro_ukr = df['Country/Region'] == 'Ukraine'\n",
    "df[filtro_ukr & filtro_ativos].sort_values('Date').plot(x='Date',y='Cases')"
   ]
  },
  {
   "cell_type": "code",
   "execution_count": 82,
   "metadata": {},
   "outputs": [
    {
     "data": {
      "text/html": [
       "<div>\n",
       "<style scoped>\n",
       "    .dataframe tbody tr th:only-of-type {\n",
       "        vertical-align: middle;\n",
       "    }\n",
       "\n",
       "    .dataframe tbody tr th {\n",
       "        vertical-align: top;\n",
       "    }\n",
       "\n",
       "    .dataframe thead th {\n",
       "        text-align: right;\n",
       "    }\n",
       "</style>\n",
       "<table border=\"1\" class=\"dataframe\">\n",
       "  <thead>\n",
       "    <tr style=\"text-align: right;\">\n",
       "      <th></th>\n",
       "      <th>Country/Region</th>\n",
       "      <th>Province/State</th>\n",
       "      <th>Date</th>\n",
       "      <th>Case_Type</th>\n",
       "      <th>Cases</th>\n",
       "      <th>Long</th>\n",
       "      <th>Lat</th>\n",
       "      <th>Difference</th>\n",
       "      <th>Last_Update_Date</th>\n",
       "    </tr>\n",
       "  </thead>\n",
       "  <tbody>\n",
       "    <tr>\n",
       "      <td>12726</td>\n",
       "      <td>Ukraine</td>\n",
       "      <td>NaN</td>\n",
       "      <td>2020-01-22</td>\n",
       "      <td>Confirmed</td>\n",
       "      <td>0</td>\n",
       "      <td>31.1656</td>\n",
       "      <td>48.3794</td>\n",
       "      <td>0</td>\n",
       "      <td>2020-03-16 12:08:25</td>\n",
       "    </tr>\n",
       "    <tr>\n",
       "      <td>12727</td>\n",
       "      <td>Ukraine</td>\n",
       "      <td>NaN</td>\n",
       "      <td>2020-01-23</td>\n",
       "      <td>Confirmed</td>\n",
       "      <td>0</td>\n",
       "      <td>31.1656</td>\n",
       "      <td>48.3794</td>\n",
       "      <td>0</td>\n",
       "      <td>2020-03-16 12:08:25</td>\n",
       "    </tr>\n",
       "    <tr>\n",
       "      <td>12728</td>\n",
       "      <td>Ukraine</td>\n",
       "      <td>NaN</td>\n",
       "      <td>2020-01-24</td>\n",
       "      <td>Confirmed</td>\n",
       "      <td>0</td>\n",
       "      <td>31.1656</td>\n",
       "      <td>48.3794</td>\n",
       "      <td>0</td>\n",
       "      <td>2020-03-16 12:08:25</td>\n",
       "    </tr>\n",
       "    <tr>\n",
       "      <td>12729</td>\n",
       "      <td>Ukraine</td>\n",
       "      <td>NaN</td>\n",
       "      <td>2020-01-25</td>\n",
       "      <td>Confirmed</td>\n",
       "      <td>0</td>\n",
       "      <td>31.1656</td>\n",
       "      <td>48.3794</td>\n",
       "      <td>0</td>\n",
       "      <td>2020-03-16 12:08:25</td>\n",
       "    </tr>\n",
       "    <tr>\n",
       "      <td>12730</td>\n",
       "      <td>Ukraine</td>\n",
       "      <td>NaN</td>\n",
       "      <td>2020-01-26</td>\n",
       "      <td>Confirmed</td>\n",
       "      <td>0</td>\n",
       "      <td>31.1656</td>\n",
       "      <td>48.3794</td>\n",
       "      <td>0</td>\n",
       "      <td>2020-03-16 12:08:25</td>\n",
       "    </tr>\n",
       "    <tr>\n",
       "      <td>...</td>\n",
       "      <td>...</td>\n",
       "      <td>...</td>\n",
       "      <td>...</td>\n",
       "      <td>...</td>\n",
       "      <td>...</td>\n",
       "      <td>...</td>\n",
       "      <td>...</td>\n",
       "      <td>...</td>\n",
       "      <td>...</td>\n",
       "    </tr>\n",
       "    <tr>\n",
       "      <td>52573</td>\n",
       "      <td>Ukraine</td>\n",
       "      <td>NaN</td>\n",
       "      <td>2020-03-11</td>\n",
       "      <td>Active</td>\n",
       "      <td>1</td>\n",
       "      <td>31.1656</td>\n",
       "      <td>48.3794</td>\n",
       "      <td>0</td>\n",
       "      <td>2020-03-16 12:08:25</td>\n",
       "    </tr>\n",
       "    <tr>\n",
       "      <td>52574</td>\n",
       "      <td>Ukraine</td>\n",
       "      <td>NaN</td>\n",
       "      <td>2020-03-12</td>\n",
       "      <td>Active</td>\n",
       "      <td>1</td>\n",
       "      <td>31.1656</td>\n",
       "      <td>48.3794</td>\n",
       "      <td>0</td>\n",
       "      <td>2020-03-16 12:08:25</td>\n",
       "    </tr>\n",
       "    <tr>\n",
       "      <td>52575</td>\n",
       "      <td>Ukraine</td>\n",
       "      <td>NaN</td>\n",
       "      <td>2020-03-13</td>\n",
       "      <td>Active</td>\n",
       "      <td>2</td>\n",
       "      <td>31.1656</td>\n",
       "      <td>48.3794</td>\n",
       "      <td>1</td>\n",
       "      <td>2020-03-16 12:08:25</td>\n",
       "    </tr>\n",
       "    <tr>\n",
       "      <td>52576</td>\n",
       "      <td>Ukraine</td>\n",
       "      <td>NaN</td>\n",
       "      <td>2020-03-14</td>\n",
       "      <td>Active</td>\n",
       "      <td>2</td>\n",
       "      <td>31.1656</td>\n",
       "      <td>48.3794</td>\n",
       "      <td>0</td>\n",
       "      <td>2020-03-16 12:08:25</td>\n",
       "    </tr>\n",
       "    <tr>\n",
       "      <td>52577</td>\n",
       "      <td>Ukraine</td>\n",
       "      <td>NaN</td>\n",
       "      <td>2020-03-15</td>\n",
       "      <td>Active</td>\n",
       "      <td>2</td>\n",
       "      <td>31.1656</td>\n",
       "      <td>48.3794</td>\n",
       "      <td>0</td>\n",
       "      <td>2020-03-16 12:08:25</td>\n",
       "    </tr>\n",
       "  </tbody>\n",
       "</table>\n",
       "<p>216 rows × 9 columns</p>\n",
       "</div>"
      ],
      "text/plain": [
       "      Country/Region Province/State       Date  Case_Type  Cases     Long  \\\n",
       "12726        Ukraine            NaN 2020-01-22  Confirmed      0  31.1656   \n",
       "12727        Ukraine            NaN 2020-01-23  Confirmed      0  31.1656   \n",
       "12728        Ukraine            NaN 2020-01-24  Confirmed      0  31.1656   \n",
       "12729        Ukraine            NaN 2020-01-25  Confirmed      0  31.1656   \n",
       "12730        Ukraine            NaN 2020-01-26  Confirmed      0  31.1656   \n",
       "...              ...            ...        ...        ...    ...      ...   \n",
       "52573        Ukraine            NaN 2020-03-11     Active      1  31.1656   \n",
       "52574        Ukraine            NaN 2020-03-12     Active      1  31.1656   \n",
       "52575        Ukraine            NaN 2020-03-13     Active      2  31.1656   \n",
       "52576        Ukraine            NaN 2020-03-14     Active      2  31.1656   \n",
       "52577        Ukraine            NaN 2020-03-15     Active      2  31.1656   \n",
       "\n",
       "           Lat  Difference    Last_Update_Date  \n",
       "12726  48.3794           0 2020-03-16 12:08:25  \n",
       "12727  48.3794           0 2020-03-16 12:08:25  \n",
       "12728  48.3794           0 2020-03-16 12:08:25  \n",
       "12729  48.3794           0 2020-03-16 12:08:25  \n",
       "12730  48.3794           0 2020-03-16 12:08:25  \n",
       "...        ...         ...                 ...  \n",
       "52573  48.3794           0 2020-03-16 12:08:25  \n",
       "52574  48.3794           0 2020-03-16 12:08:25  \n",
       "52575  48.3794           1 2020-03-16 12:08:25  \n",
       "52576  48.3794           0 2020-03-16 12:08:25  \n",
       "52577  48.3794           0 2020-03-16 12:08:25  \n",
       "\n",
       "[216 rows x 9 columns]"
      ]
     },
     "execution_count": 82,
     "metadata": {},
     "output_type": "execute_result"
    }
   ],
   "source": [
    "df[filtro_ukr]"
   ]
  },
  {
   "cell_type": "code",
   "execution_count": 83,
   "metadata": {},
   "outputs": [
    {
     "data": {
      "text/html": [
       "<div>\n",
       "<style scoped>\n",
       "    .dataframe tbody tr th:only-of-type {\n",
       "        vertical-align: middle;\n",
       "    }\n",
       "\n",
       "    .dataframe tbody tr th {\n",
       "        vertical-align: top;\n",
       "    }\n",
       "\n",
       "    .dataframe thead th {\n",
       "        text-align: right;\n",
       "    }\n",
       "</style>\n",
       "<table border=\"1\" class=\"dataframe\">\n",
       "  <thead>\n",
       "    <tr style=\"text-align: right;\">\n",
       "      <th></th>\n",
       "      <th>Country/Region</th>\n",
       "      <th>Province/State</th>\n",
       "      <th>Date</th>\n",
       "      <th>Case_Type</th>\n",
       "      <th>Cases</th>\n",
       "      <th>Long</th>\n",
       "      <th>Lat</th>\n",
       "      <th>Difference</th>\n",
       "      <th>Last_Update_Date</th>\n",
       "    </tr>\n",
       "  </thead>\n",
       "  <tbody>\n",
       "  </tbody>\n",
       "</table>\n",
       "</div>"
      ],
      "text/plain": [
       "Empty DataFrame\n",
       "Columns: [Country/Region, Province/State, Date, Case_Type, Cases, Long, Lat, Difference, Last_Update_Date]\n",
       "Index: []"
      ]
     },
     "execution_count": 83,
     "metadata": {},
     "output_type": "execute_result"
    }
   ],
   "source": [
    "df[filtro_ukr & filtro_mortes]"
   ]
  },
  {
   "cell_type": "code",
   "execution_count": 84,
   "metadata": {},
   "outputs": [
    {
     "name": "stderr",
     "output_type": "stream",
     "text": [
      "C:\\Users\\Rogerio\\Anaconda3\\lib\\site-packages\\ipykernel_launcher.py:2: UserWarning: Boolean Series key will be reindexed to match DataFrame index.\n",
      "  \n"
     ]
    },
    {
     "data": {
      "text/plain": [
       "array([], dtype=float64)"
      ]
     },
     "execution_count": 84,
     "metadata": {},
     "output_type": "execute_result"
    }
   ],
   "source": [
    "mortalidade(filtro_ukr)"
   ]
  },
  {
   "cell_type": "code",
   "execution_count": 85,
   "metadata": {},
   "outputs": [
    {
     "data": {
      "text/html": [
       "<div>\n",
       "<style scoped>\n",
       "    .dataframe tbody tr th:only-of-type {\n",
       "        vertical-align: middle;\n",
       "    }\n",
       "\n",
       "    .dataframe tbody tr th {\n",
       "        vertical-align: top;\n",
       "    }\n",
       "\n",
       "    .dataframe thead th {\n",
       "        text-align: right;\n",
       "    }\n",
       "</style>\n",
       "<table border=\"1\" class=\"dataframe\">\n",
       "  <thead>\n",
       "    <tr style=\"text-align: right;\">\n",
       "      <th></th>\n",
       "      <th>Country/Region</th>\n",
       "      <th>Case_Type</th>\n",
       "      <th>Cases</th>\n",
       "    </tr>\n",
       "  </thead>\n",
       "  <tbody>\n",
       "    <tr>\n",
       "      <td>556</td>\n",
       "      <td>Ukraine</td>\n",
       "      <td>Active</td>\n",
       "      <td>16</td>\n",
       "    </tr>\n",
       "    <tr>\n",
       "      <td>557</td>\n",
       "      <td>Ukraine</td>\n",
       "      <td>Confirmed</td>\n",
       "      <td>19</td>\n",
       "    </tr>\n",
       "    <tr>\n",
       "      <td>558</td>\n",
       "      <td>Ukraine</td>\n",
       "      <td>Deaths</td>\n",
       "      <td>3</td>\n",
       "    </tr>\n",
       "    <tr>\n",
       "      <td>559</td>\n",
       "      <td>Ukraine</td>\n",
       "      <td>Recovered</td>\n",
       "      <td>0</td>\n",
       "    </tr>\n",
       "  </tbody>\n",
       "</table>\n",
       "</div>"
      ],
      "text/plain": [
       "    Country/Region  Case_Type  Cases\n",
       "556        Ukraine     Active     16\n",
       "557        Ukraine  Confirmed     19\n",
       "558        Ukraine     Deaths      3\n",
       "559        Ukraine  Recovered      0"
      ]
     },
     "execution_count": 85,
     "metadata": {},
     "output_type": "execute_result"
    }
   ],
   "source": [
    "group2[group2['Country/Region'] =='Ukraine']"
   ]
  },
  {
   "cell_type": "code",
   "execution_count": 86,
   "metadata": {},
   "outputs": [
    {
     "data": {
      "text/html": [
       "<div>\n",
       "<style scoped>\n",
       "    .dataframe tbody tr th:only-of-type {\n",
       "        vertical-align: middle;\n",
       "    }\n",
       "\n",
       "    .dataframe tbody tr th {\n",
       "        vertical-align: top;\n",
       "    }\n",
       "\n",
       "    .dataframe thead th {\n",
       "        text-align: right;\n",
       "    }\n",
       "</style>\n",
       "<table border=\"1\" class=\"dataframe\">\n",
       "  <thead>\n",
       "    <tr style=\"text-align: right;\">\n",
       "      <th></th>\n",
       "      <th>Country/Region</th>\n",
       "      <th>Province/State</th>\n",
       "      <th>Date</th>\n",
       "      <th>Case_Type</th>\n",
       "      <th>Cases</th>\n",
       "      <th>Long</th>\n",
       "      <th>Lat</th>\n",
       "      <th>Difference</th>\n",
       "      <th>Last_Update_Date</th>\n",
       "    </tr>\n",
       "  </thead>\n",
       "  <tbody>\n",
       "    <tr>\n",
       "      <td>12726</td>\n",
       "      <td>Ukraine</td>\n",
       "      <td>NaN</td>\n",
       "      <td>2020-01-22</td>\n",
       "      <td>Confirmed</td>\n",
       "      <td>0</td>\n",
       "      <td>31.1656</td>\n",
       "      <td>48.3794</td>\n",
       "      <td>0</td>\n",
       "      <td>2020-03-16 12:08:25</td>\n",
       "    </tr>\n",
       "    <tr>\n",
       "      <td>12727</td>\n",
       "      <td>Ukraine</td>\n",
       "      <td>NaN</td>\n",
       "      <td>2020-01-23</td>\n",
       "      <td>Confirmed</td>\n",
       "      <td>0</td>\n",
       "      <td>31.1656</td>\n",
       "      <td>48.3794</td>\n",
       "      <td>0</td>\n",
       "      <td>2020-03-16 12:08:25</td>\n",
       "    </tr>\n",
       "    <tr>\n",
       "      <td>12728</td>\n",
       "      <td>Ukraine</td>\n",
       "      <td>NaN</td>\n",
       "      <td>2020-01-24</td>\n",
       "      <td>Confirmed</td>\n",
       "      <td>0</td>\n",
       "      <td>31.1656</td>\n",
       "      <td>48.3794</td>\n",
       "      <td>0</td>\n",
       "      <td>2020-03-16 12:08:25</td>\n",
       "    </tr>\n",
       "    <tr>\n",
       "      <td>12729</td>\n",
       "      <td>Ukraine</td>\n",
       "      <td>NaN</td>\n",
       "      <td>2020-01-25</td>\n",
       "      <td>Confirmed</td>\n",
       "      <td>0</td>\n",
       "      <td>31.1656</td>\n",
       "      <td>48.3794</td>\n",
       "      <td>0</td>\n",
       "      <td>2020-03-16 12:08:25</td>\n",
       "    </tr>\n",
       "    <tr>\n",
       "      <td>12730</td>\n",
       "      <td>Ukraine</td>\n",
       "      <td>NaN</td>\n",
       "      <td>2020-01-26</td>\n",
       "      <td>Confirmed</td>\n",
       "      <td>0</td>\n",
       "      <td>31.1656</td>\n",
       "      <td>48.3794</td>\n",
       "      <td>0</td>\n",
       "      <td>2020-03-16 12:08:25</td>\n",
       "    </tr>\n",
       "    <tr>\n",
       "      <td>...</td>\n",
       "      <td>...</td>\n",
       "      <td>...</td>\n",
       "      <td>...</td>\n",
       "      <td>...</td>\n",
       "      <td>...</td>\n",
       "      <td>...</td>\n",
       "      <td>...</td>\n",
       "      <td>...</td>\n",
       "      <td>...</td>\n",
       "    </tr>\n",
       "    <tr>\n",
       "      <td>52573</td>\n",
       "      <td>Ukraine</td>\n",
       "      <td>NaN</td>\n",
       "      <td>2020-03-11</td>\n",
       "      <td>Active</td>\n",
       "      <td>1</td>\n",
       "      <td>31.1656</td>\n",
       "      <td>48.3794</td>\n",
       "      <td>0</td>\n",
       "      <td>2020-03-16 12:08:25</td>\n",
       "    </tr>\n",
       "    <tr>\n",
       "      <td>52574</td>\n",
       "      <td>Ukraine</td>\n",
       "      <td>NaN</td>\n",
       "      <td>2020-03-12</td>\n",
       "      <td>Active</td>\n",
       "      <td>1</td>\n",
       "      <td>31.1656</td>\n",
       "      <td>48.3794</td>\n",
       "      <td>0</td>\n",
       "      <td>2020-03-16 12:08:25</td>\n",
       "    </tr>\n",
       "    <tr>\n",
       "      <td>52575</td>\n",
       "      <td>Ukraine</td>\n",
       "      <td>NaN</td>\n",
       "      <td>2020-03-13</td>\n",
       "      <td>Active</td>\n",
       "      <td>2</td>\n",
       "      <td>31.1656</td>\n",
       "      <td>48.3794</td>\n",
       "      <td>1</td>\n",
       "      <td>2020-03-16 12:08:25</td>\n",
       "    </tr>\n",
       "    <tr>\n",
       "      <td>52576</td>\n",
       "      <td>Ukraine</td>\n",
       "      <td>NaN</td>\n",
       "      <td>2020-03-14</td>\n",
       "      <td>Active</td>\n",
       "      <td>2</td>\n",
       "      <td>31.1656</td>\n",
       "      <td>48.3794</td>\n",
       "      <td>0</td>\n",
       "      <td>2020-03-16 12:08:25</td>\n",
       "    </tr>\n",
       "    <tr>\n",
       "      <td>52577</td>\n",
       "      <td>Ukraine</td>\n",
       "      <td>NaN</td>\n",
       "      <td>2020-03-15</td>\n",
       "      <td>Active</td>\n",
       "      <td>2</td>\n",
       "      <td>31.1656</td>\n",
       "      <td>48.3794</td>\n",
       "      <td>0</td>\n",
       "      <td>2020-03-16 12:08:25</td>\n",
       "    </tr>\n",
       "  </tbody>\n",
       "</table>\n",
       "<p>216 rows × 9 columns</p>\n",
       "</div>"
      ],
      "text/plain": [
       "      Country/Region Province/State       Date  Case_Type  Cases     Long  \\\n",
       "12726        Ukraine            NaN 2020-01-22  Confirmed      0  31.1656   \n",
       "12727        Ukraine            NaN 2020-01-23  Confirmed      0  31.1656   \n",
       "12728        Ukraine            NaN 2020-01-24  Confirmed      0  31.1656   \n",
       "12729        Ukraine            NaN 2020-01-25  Confirmed      0  31.1656   \n",
       "12730        Ukraine            NaN 2020-01-26  Confirmed      0  31.1656   \n",
       "...              ...            ...        ...        ...    ...      ...   \n",
       "52573        Ukraine            NaN 2020-03-11     Active      1  31.1656   \n",
       "52574        Ukraine            NaN 2020-03-12     Active      1  31.1656   \n",
       "52575        Ukraine            NaN 2020-03-13     Active      2  31.1656   \n",
       "52576        Ukraine            NaN 2020-03-14     Active      2  31.1656   \n",
       "52577        Ukraine            NaN 2020-03-15     Active      2  31.1656   \n",
       "\n",
       "           Lat  Difference    Last_Update_Date  \n",
       "12726  48.3794           0 2020-03-16 12:08:25  \n",
       "12727  48.3794           0 2020-03-16 12:08:25  \n",
       "12728  48.3794           0 2020-03-16 12:08:25  \n",
       "12729  48.3794           0 2020-03-16 12:08:25  \n",
       "12730  48.3794           0 2020-03-16 12:08:25  \n",
       "...        ...         ...                 ...  \n",
       "52573  48.3794           0 2020-03-16 12:08:25  \n",
       "52574  48.3794           0 2020-03-16 12:08:25  \n",
       "52575  48.3794           1 2020-03-16 12:08:25  \n",
       "52576  48.3794           0 2020-03-16 12:08:25  \n",
       "52577  48.3794           0 2020-03-16 12:08:25  \n",
       "\n",
       "[216 rows x 9 columns]"
      ]
     },
     "execution_count": 86,
     "metadata": {},
     "output_type": "execute_result"
    }
   ],
   "source": [
    "df[df['Country/Region'] == 'Ukraine'] "
   ]
  },
  {
   "cell_type": "code",
   "execution_count": null,
   "metadata": {},
   "outputs": [],
   "source": []
  },
  {
   "cell_type": "code",
   "execution_count": 87,
   "metadata": {},
   "outputs": [
    {
     "data": {
      "text/html": [
       "<div>\n",
       "<style scoped>\n",
       "    .dataframe tbody tr th:only-of-type {\n",
       "        vertical-align: middle;\n",
       "    }\n",
       "\n",
       "    .dataframe tbody tr th {\n",
       "        vertical-align: top;\n",
       "    }\n",
       "\n",
       "    .dataframe thead th {\n",
       "        text-align: right;\n",
       "    }\n",
       "</style>\n",
       "<table border=\"1\" class=\"dataframe\">\n",
       "  <thead>\n",
       "    <tr style=\"text-align: right;\">\n",
       "      <th></th>\n",
       "      <th>Country/Region</th>\n",
       "      <th>Province/State</th>\n",
       "      <th>Date</th>\n",
       "      <th>Case_Type</th>\n",
       "      <th>Cases</th>\n",
       "      <th>Long</th>\n",
       "      <th>Lat</th>\n",
       "      <th>Difference</th>\n",
       "      <th>Last_Update_Date</th>\n",
       "    </tr>\n",
       "  </thead>\n",
       "  <tbody>\n",
       "    <tr>\n",
       "      <td>0</td>\n",
       "      <td>Afghanistan</td>\n",
       "      <td>NaN</td>\n",
       "      <td>2020-01-22</td>\n",
       "      <td>Confirmed</td>\n",
       "      <td>0</td>\n",
       "      <td>65.0</td>\n",
       "      <td>33.0</td>\n",
       "      <td>0</td>\n",
       "      <td>2020-03-16 12:08:25</td>\n",
       "    </tr>\n",
       "    <tr>\n",
       "      <td>1</td>\n",
       "      <td>Afghanistan</td>\n",
       "      <td>NaN</td>\n",
       "      <td>2020-01-23</td>\n",
       "      <td>Confirmed</td>\n",
       "      <td>0</td>\n",
       "      <td>65.0</td>\n",
       "      <td>33.0</td>\n",
       "      <td>0</td>\n",
       "      <td>2020-03-16 12:08:25</td>\n",
       "    </tr>\n",
       "    <tr>\n",
       "      <td>2</td>\n",
       "      <td>Afghanistan</td>\n",
       "      <td>NaN</td>\n",
       "      <td>2020-01-24</td>\n",
       "      <td>Confirmed</td>\n",
       "      <td>0</td>\n",
       "      <td>65.0</td>\n",
       "      <td>33.0</td>\n",
       "      <td>0</td>\n",
       "      <td>2020-03-16 12:08:25</td>\n",
       "    </tr>\n",
       "    <tr>\n",
       "      <td>3</td>\n",
       "      <td>Afghanistan</td>\n",
       "      <td>NaN</td>\n",
       "      <td>2020-01-25</td>\n",
       "      <td>Confirmed</td>\n",
       "      <td>0</td>\n",
       "      <td>65.0</td>\n",
       "      <td>33.0</td>\n",
       "      <td>0</td>\n",
       "      <td>2020-03-16 12:08:25</td>\n",
       "    </tr>\n",
       "    <tr>\n",
       "      <td>4</td>\n",
       "      <td>Afghanistan</td>\n",
       "      <td>NaN</td>\n",
       "      <td>2020-01-26</td>\n",
       "      <td>Confirmed</td>\n",
       "      <td>0</td>\n",
       "      <td>65.0</td>\n",
       "      <td>33.0</td>\n",
       "      <td>0</td>\n",
       "      <td>2020-03-16 12:08:25</td>\n",
       "    </tr>\n",
       "    <tr>\n",
       "      <td>...</td>\n",
       "      <td>...</td>\n",
       "      <td>...</td>\n",
       "      <td>...</td>\n",
       "      <td>...</td>\n",
       "      <td>...</td>\n",
       "      <td>...</td>\n",
       "      <td>...</td>\n",
       "      <td>...</td>\n",
       "      <td>...</td>\n",
       "    </tr>\n",
       "    <tr>\n",
       "      <td>53059</td>\n",
       "      <td>Vietnam</td>\n",
       "      <td>NaN</td>\n",
       "      <td>2020-03-11</td>\n",
       "      <td>Active</td>\n",
       "      <td>22</td>\n",
       "      <td>108.0</td>\n",
       "      <td>16.0</td>\n",
       "      <td>7</td>\n",
       "      <td>2020-03-16 12:08:25</td>\n",
       "    </tr>\n",
       "    <tr>\n",
       "      <td>53060</td>\n",
       "      <td>Vietnam</td>\n",
       "      <td>NaN</td>\n",
       "      <td>2020-03-12</td>\n",
       "      <td>Active</td>\n",
       "      <td>23</td>\n",
       "      <td>108.0</td>\n",
       "      <td>16.0</td>\n",
       "      <td>1</td>\n",
       "      <td>2020-03-16 12:08:25</td>\n",
       "    </tr>\n",
       "    <tr>\n",
       "      <td>53061</td>\n",
       "      <td>Vietnam</td>\n",
       "      <td>NaN</td>\n",
       "      <td>2020-03-13</td>\n",
       "      <td>Active</td>\n",
       "      <td>31</td>\n",
       "      <td>108.0</td>\n",
       "      <td>16.0</td>\n",
       "      <td>8</td>\n",
       "      <td>2020-03-16 12:08:25</td>\n",
       "    </tr>\n",
       "    <tr>\n",
       "      <td>53062</td>\n",
       "      <td>Vietnam</td>\n",
       "      <td>NaN</td>\n",
       "      <td>2020-03-14</td>\n",
       "      <td>Active</td>\n",
       "      <td>37</td>\n",
       "      <td>108.0</td>\n",
       "      <td>16.0</td>\n",
       "      <td>6</td>\n",
       "      <td>2020-03-16 12:08:25</td>\n",
       "    </tr>\n",
       "    <tr>\n",
       "      <td>53063</td>\n",
       "      <td>Vietnam</td>\n",
       "      <td>NaN</td>\n",
       "      <td>2020-03-15</td>\n",
       "      <td>Active</td>\n",
       "      <td>40</td>\n",
       "      <td>108.0</td>\n",
       "      <td>16.0</td>\n",
       "      <td>3</td>\n",
       "      <td>2020-03-16 12:08:25</td>\n",
       "    </tr>\n",
       "  </tbody>\n",
       "</table>\n",
       "<p>53064 rows × 9 columns</p>\n",
       "</div>"
      ],
      "text/plain": [
       "      Country/Region Province/State       Date  Case_Type  Cases   Long   Lat  \\\n",
       "0        Afghanistan            NaN 2020-01-22  Confirmed      0   65.0  33.0   \n",
       "1        Afghanistan            NaN 2020-01-23  Confirmed      0   65.0  33.0   \n",
       "2        Afghanistan            NaN 2020-01-24  Confirmed      0   65.0  33.0   \n",
       "3        Afghanistan            NaN 2020-01-25  Confirmed      0   65.0  33.0   \n",
       "4        Afghanistan            NaN 2020-01-26  Confirmed      0   65.0  33.0   \n",
       "...              ...            ...        ...        ...    ...    ...   ...   \n",
       "53059        Vietnam            NaN 2020-03-11     Active     22  108.0  16.0   \n",
       "53060        Vietnam            NaN 2020-03-12     Active     23  108.0  16.0   \n",
       "53061        Vietnam            NaN 2020-03-13     Active     31  108.0  16.0   \n",
       "53062        Vietnam            NaN 2020-03-14     Active     37  108.0  16.0   \n",
       "53063        Vietnam            NaN 2020-03-15     Active     40  108.0  16.0   \n",
       "\n",
       "       Difference    Last_Update_Date  \n",
       "0               0 2020-03-16 12:08:25  \n",
       "1               0 2020-03-16 12:08:25  \n",
       "2               0 2020-03-16 12:08:25  \n",
       "3               0 2020-03-16 12:08:25  \n",
       "4               0 2020-03-16 12:08:25  \n",
       "...           ...                 ...  \n",
       "53059           7 2020-03-16 12:08:25  \n",
       "53060           1 2020-03-16 12:08:25  \n",
       "53061           8 2020-03-16 12:08:25  \n",
       "53062           6 2020-03-16 12:08:25  \n",
       "53063           3 2020-03-16 12:08:25  \n",
       "\n",
       "[53064 rows x 9 columns]"
      ]
     },
     "execution_count": 87,
     "metadata": {},
     "output_type": "execute_result"
    }
   ],
   "source": [
    "df"
   ]
  },
  {
   "cell_type": "code",
   "execution_count": 88,
   "metadata": {},
   "outputs": [
    {
     "data": {
      "text/plain": [
       "(53064,)"
      ]
     },
     "execution_count": 88,
     "metadata": {},
     "output_type": "execute_result"
    }
   ],
   "source": [
    "filtro_ativos.shape"
   ]
  },
  {
   "cell_type": "code",
   "execution_count": 91,
   "metadata": {},
   "outputs": [
    {
     "data": {
      "text/plain": [
       "(53064,)"
      ]
     },
     "execution_count": 91,
     "metadata": {},
     "output_type": "execute_result"
    }
   ],
   "source": [
    "filtro_ukr.shape"
   ]
  },
  {
   "cell_type": "code",
   "execution_count": 92,
   "metadata": {},
   "outputs": [
    {
     "data": {
      "text/plain": [
       "(53064, 9)"
      ]
     },
     "execution_count": 92,
     "metadata": {},
     "output_type": "execute_result"
    }
   ],
   "source": [
    "df.shape"
   ]
  },
  {
   "cell_type": "code",
   "execution_count": 93,
   "metadata": {},
   "outputs": [],
   "source": [
    "filtro_ukr2 = group2['Country/Region'] == 'Ukraine'"
   ]
  },
  {
   "cell_type": "code",
   "execution_count": 94,
   "metadata": {},
   "outputs": [
    {
     "data": {
      "text/plain": [
       "(588,)"
      ]
     },
     "execution_count": 94,
     "metadata": {},
     "output_type": "execute_result"
    }
   ],
   "source": [
    "filtro_ukr2.shape"
   ]
  },
  {
   "cell_type": "code",
   "execution_count": 96,
   "metadata": {},
   "outputs": [
    {
     "data": {
      "text/plain": [
       "16.0"
      ]
     },
     "execution_count": 96,
     "metadata": {},
     "output_type": "execute_result"
    }
   ],
   "source": [
    "round(mortalidade(filtro_ukr2)[0],2)*100"
   ]
  },
  {
   "cell_type": "code",
   "execution_count": null,
   "metadata": {},
   "outputs": [],
   "source": []
  },
  {
   "cell_type": "code",
   "execution_count": null,
   "metadata": {},
   "outputs": [],
   "source": []
  },
  {
   "cell_type": "code",
   "execution_count": null,
   "metadata": {},
   "outputs": [],
   "source": []
  },
  {
   "cell_type": "code",
   "execution_count": 89,
   "metadata": {},
   "outputs": [],
   "source": [
    "filtro_ukr = df['Country/Region'] == 'Ukraine'"
   ]
  },
  {
   "cell_type": "code",
   "execution_count": 90,
   "metadata": {},
   "outputs": [
    {
     "data": {
      "text/html": [
       "<div>\n",
       "<style scoped>\n",
       "    .dataframe tbody tr th:only-of-type {\n",
       "        vertical-align: middle;\n",
       "    }\n",
       "\n",
       "    .dataframe tbody tr th {\n",
       "        vertical-align: top;\n",
       "    }\n",
       "\n",
       "    .dataframe thead th {\n",
       "        text-align: right;\n",
       "    }\n",
       "</style>\n",
       "<table border=\"1\" class=\"dataframe\">\n",
       "  <thead>\n",
       "    <tr style=\"text-align: right;\">\n",
       "      <th></th>\n",
       "      <th>Country/Region</th>\n",
       "      <th>Province/State</th>\n",
       "      <th>Date</th>\n",
       "      <th>Case_Type</th>\n",
       "      <th>Cases</th>\n",
       "      <th>Long</th>\n",
       "      <th>Lat</th>\n",
       "      <th>Difference</th>\n",
       "      <th>Last_Update_Date</th>\n",
       "    </tr>\n",
       "  </thead>\n",
       "  <tbody>\n",
       "    <tr>\n",
       "      <td>52524</td>\n",
       "      <td>Ukraine</td>\n",
       "      <td>NaN</td>\n",
       "      <td>2020-01-22</td>\n",
       "      <td>Active</td>\n",
       "      <td>0</td>\n",
       "      <td>31.1656</td>\n",
       "      <td>48.3794</td>\n",
       "      <td>0</td>\n",
       "      <td>2020-03-16 12:08:25</td>\n",
       "    </tr>\n",
       "    <tr>\n",
       "      <td>52525</td>\n",
       "      <td>Ukraine</td>\n",
       "      <td>NaN</td>\n",
       "      <td>2020-01-23</td>\n",
       "      <td>Active</td>\n",
       "      <td>0</td>\n",
       "      <td>31.1656</td>\n",
       "      <td>48.3794</td>\n",
       "      <td>0</td>\n",
       "      <td>2020-03-16 12:08:25</td>\n",
       "    </tr>\n",
       "    <tr>\n",
       "      <td>52526</td>\n",
       "      <td>Ukraine</td>\n",
       "      <td>NaN</td>\n",
       "      <td>2020-01-24</td>\n",
       "      <td>Active</td>\n",
       "      <td>0</td>\n",
       "      <td>31.1656</td>\n",
       "      <td>48.3794</td>\n",
       "      <td>0</td>\n",
       "      <td>2020-03-16 12:08:25</td>\n",
       "    </tr>\n",
       "    <tr>\n",
       "      <td>52527</td>\n",
       "      <td>Ukraine</td>\n",
       "      <td>NaN</td>\n",
       "      <td>2020-01-25</td>\n",
       "      <td>Active</td>\n",
       "      <td>0</td>\n",
       "      <td>31.1656</td>\n",
       "      <td>48.3794</td>\n",
       "      <td>0</td>\n",
       "      <td>2020-03-16 12:08:25</td>\n",
       "    </tr>\n",
       "    <tr>\n",
       "      <td>52528</td>\n",
       "      <td>Ukraine</td>\n",
       "      <td>NaN</td>\n",
       "      <td>2020-01-26</td>\n",
       "      <td>Active</td>\n",
       "      <td>0</td>\n",
       "      <td>31.1656</td>\n",
       "      <td>48.3794</td>\n",
       "      <td>0</td>\n",
       "      <td>2020-03-16 12:08:25</td>\n",
       "    </tr>\n",
       "    <tr>\n",
       "      <td>52529</td>\n",
       "      <td>Ukraine</td>\n",
       "      <td>NaN</td>\n",
       "      <td>2020-01-27</td>\n",
       "      <td>Active</td>\n",
       "      <td>0</td>\n",
       "      <td>31.1656</td>\n",
       "      <td>48.3794</td>\n",
       "      <td>0</td>\n",
       "      <td>2020-03-16 12:08:25</td>\n",
       "    </tr>\n",
       "    <tr>\n",
       "      <td>52530</td>\n",
       "      <td>Ukraine</td>\n",
       "      <td>NaN</td>\n",
       "      <td>2020-01-28</td>\n",
       "      <td>Active</td>\n",
       "      <td>0</td>\n",
       "      <td>31.1656</td>\n",
       "      <td>48.3794</td>\n",
       "      <td>0</td>\n",
       "      <td>2020-03-16 12:08:25</td>\n",
       "    </tr>\n",
       "    <tr>\n",
       "      <td>52531</td>\n",
       "      <td>Ukraine</td>\n",
       "      <td>NaN</td>\n",
       "      <td>2020-01-29</td>\n",
       "      <td>Active</td>\n",
       "      <td>0</td>\n",
       "      <td>31.1656</td>\n",
       "      <td>48.3794</td>\n",
       "      <td>0</td>\n",
       "      <td>2020-03-16 12:08:25</td>\n",
       "    </tr>\n",
       "    <tr>\n",
       "      <td>52532</td>\n",
       "      <td>Ukraine</td>\n",
       "      <td>NaN</td>\n",
       "      <td>2020-01-30</td>\n",
       "      <td>Active</td>\n",
       "      <td>0</td>\n",
       "      <td>31.1656</td>\n",
       "      <td>48.3794</td>\n",
       "      <td>0</td>\n",
       "      <td>2020-03-16 12:08:25</td>\n",
       "    </tr>\n",
       "    <tr>\n",
       "      <td>52533</td>\n",
       "      <td>Ukraine</td>\n",
       "      <td>NaN</td>\n",
       "      <td>2020-01-31</td>\n",
       "      <td>Active</td>\n",
       "      <td>0</td>\n",
       "      <td>31.1656</td>\n",
       "      <td>48.3794</td>\n",
       "      <td>0</td>\n",
       "      <td>2020-03-16 12:08:25</td>\n",
       "    </tr>\n",
       "    <tr>\n",
       "      <td>52534</td>\n",
       "      <td>Ukraine</td>\n",
       "      <td>NaN</td>\n",
       "      <td>2020-02-01</td>\n",
       "      <td>Active</td>\n",
       "      <td>0</td>\n",
       "      <td>31.1656</td>\n",
       "      <td>48.3794</td>\n",
       "      <td>0</td>\n",
       "      <td>2020-03-16 12:08:25</td>\n",
       "    </tr>\n",
       "    <tr>\n",
       "      <td>52535</td>\n",
       "      <td>Ukraine</td>\n",
       "      <td>NaN</td>\n",
       "      <td>2020-02-02</td>\n",
       "      <td>Active</td>\n",
       "      <td>0</td>\n",
       "      <td>31.1656</td>\n",
       "      <td>48.3794</td>\n",
       "      <td>0</td>\n",
       "      <td>2020-03-16 12:08:25</td>\n",
       "    </tr>\n",
       "    <tr>\n",
       "      <td>52536</td>\n",
       "      <td>Ukraine</td>\n",
       "      <td>NaN</td>\n",
       "      <td>2020-02-03</td>\n",
       "      <td>Active</td>\n",
       "      <td>0</td>\n",
       "      <td>31.1656</td>\n",
       "      <td>48.3794</td>\n",
       "      <td>0</td>\n",
       "      <td>2020-03-16 12:08:25</td>\n",
       "    </tr>\n",
       "    <tr>\n",
       "      <td>52537</td>\n",
       "      <td>Ukraine</td>\n",
       "      <td>NaN</td>\n",
       "      <td>2020-02-04</td>\n",
       "      <td>Active</td>\n",
       "      <td>0</td>\n",
       "      <td>31.1656</td>\n",
       "      <td>48.3794</td>\n",
       "      <td>0</td>\n",
       "      <td>2020-03-16 12:08:25</td>\n",
       "    </tr>\n",
       "    <tr>\n",
       "      <td>52538</td>\n",
       "      <td>Ukraine</td>\n",
       "      <td>NaN</td>\n",
       "      <td>2020-02-05</td>\n",
       "      <td>Active</td>\n",
       "      <td>0</td>\n",
       "      <td>31.1656</td>\n",
       "      <td>48.3794</td>\n",
       "      <td>0</td>\n",
       "      <td>2020-03-16 12:08:25</td>\n",
       "    </tr>\n",
       "    <tr>\n",
       "      <td>52539</td>\n",
       "      <td>Ukraine</td>\n",
       "      <td>NaN</td>\n",
       "      <td>2020-02-06</td>\n",
       "      <td>Active</td>\n",
       "      <td>0</td>\n",
       "      <td>31.1656</td>\n",
       "      <td>48.3794</td>\n",
       "      <td>0</td>\n",
       "      <td>2020-03-16 12:08:25</td>\n",
       "    </tr>\n",
       "    <tr>\n",
       "      <td>52540</td>\n",
       "      <td>Ukraine</td>\n",
       "      <td>NaN</td>\n",
       "      <td>2020-02-07</td>\n",
       "      <td>Active</td>\n",
       "      <td>0</td>\n",
       "      <td>31.1656</td>\n",
       "      <td>48.3794</td>\n",
       "      <td>0</td>\n",
       "      <td>2020-03-16 12:08:25</td>\n",
       "    </tr>\n",
       "    <tr>\n",
       "      <td>52541</td>\n",
       "      <td>Ukraine</td>\n",
       "      <td>NaN</td>\n",
       "      <td>2020-02-08</td>\n",
       "      <td>Active</td>\n",
       "      <td>0</td>\n",
       "      <td>31.1656</td>\n",
       "      <td>48.3794</td>\n",
       "      <td>0</td>\n",
       "      <td>2020-03-16 12:08:25</td>\n",
       "    </tr>\n",
       "    <tr>\n",
       "      <td>52542</td>\n",
       "      <td>Ukraine</td>\n",
       "      <td>NaN</td>\n",
       "      <td>2020-02-09</td>\n",
       "      <td>Active</td>\n",
       "      <td>0</td>\n",
       "      <td>31.1656</td>\n",
       "      <td>48.3794</td>\n",
       "      <td>0</td>\n",
       "      <td>2020-03-16 12:08:25</td>\n",
       "    </tr>\n",
       "    <tr>\n",
       "      <td>52543</td>\n",
       "      <td>Ukraine</td>\n",
       "      <td>NaN</td>\n",
       "      <td>2020-02-10</td>\n",
       "      <td>Active</td>\n",
       "      <td>0</td>\n",
       "      <td>31.1656</td>\n",
       "      <td>48.3794</td>\n",
       "      <td>0</td>\n",
       "      <td>2020-03-16 12:08:25</td>\n",
       "    </tr>\n",
       "    <tr>\n",
       "      <td>52544</td>\n",
       "      <td>Ukraine</td>\n",
       "      <td>NaN</td>\n",
       "      <td>2020-02-11</td>\n",
       "      <td>Active</td>\n",
       "      <td>0</td>\n",
       "      <td>31.1656</td>\n",
       "      <td>48.3794</td>\n",
       "      <td>0</td>\n",
       "      <td>2020-03-16 12:08:25</td>\n",
       "    </tr>\n",
       "    <tr>\n",
       "      <td>52545</td>\n",
       "      <td>Ukraine</td>\n",
       "      <td>NaN</td>\n",
       "      <td>2020-02-12</td>\n",
       "      <td>Active</td>\n",
       "      <td>0</td>\n",
       "      <td>31.1656</td>\n",
       "      <td>48.3794</td>\n",
       "      <td>0</td>\n",
       "      <td>2020-03-16 12:08:25</td>\n",
       "    </tr>\n",
       "    <tr>\n",
       "      <td>52546</td>\n",
       "      <td>Ukraine</td>\n",
       "      <td>NaN</td>\n",
       "      <td>2020-02-13</td>\n",
       "      <td>Active</td>\n",
       "      <td>0</td>\n",
       "      <td>31.1656</td>\n",
       "      <td>48.3794</td>\n",
       "      <td>0</td>\n",
       "      <td>2020-03-16 12:08:25</td>\n",
       "    </tr>\n",
       "    <tr>\n",
       "      <td>52547</td>\n",
       "      <td>Ukraine</td>\n",
       "      <td>NaN</td>\n",
       "      <td>2020-02-14</td>\n",
       "      <td>Active</td>\n",
       "      <td>0</td>\n",
       "      <td>31.1656</td>\n",
       "      <td>48.3794</td>\n",
       "      <td>0</td>\n",
       "      <td>2020-03-16 12:08:25</td>\n",
       "    </tr>\n",
       "    <tr>\n",
       "      <td>52548</td>\n",
       "      <td>Ukraine</td>\n",
       "      <td>NaN</td>\n",
       "      <td>2020-02-15</td>\n",
       "      <td>Active</td>\n",
       "      <td>0</td>\n",
       "      <td>31.1656</td>\n",
       "      <td>48.3794</td>\n",
       "      <td>0</td>\n",
       "      <td>2020-03-16 12:08:25</td>\n",
       "    </tr>\n",
       "    <tr>\n",
       "      <td>52549</td>\n",
       "      <td>Ukraine</td>\n",
       "      <td>NaN</td>\n",
       "      <td>2020-02-16</td>\n",
       "      <td>Active</td>\n",
       "      <td>0</td>\n",
       "      <td>31.1656</td>\n",
       "      <td>48.3794</td>\n",
       "      <td>0</td>\n",
       "      <td>2020-03-16 12:08:25</td>\n",
       "    </tr>\n",
       "    <tr>\n",
       "      <td>52550</td>\n",
       "      <td>Ukraine</td>\n",
       "      <td>NaN</td>\n",
       "      <td>2020-02-17</td>\n",
       "      <td>Active</td>\n",
       "      <td>0</td>\n",
       "      <td>31.1656</td>\n",
       "      <td>48.3794</td>\n",
       "      <td>0</td>\n",
       "      <td>2020-03-16 12:08:25</td>\n",
       "    </tr>\n",
       "    <tr>\n",
       "      <td>52551</td>\n",
       "      <td>Ukraine</td>\n",
       "      <td>NaN</td>\n",
       "      <td>2020-02-18</td>\n",
       "      <td>Active</td>\n",
       "      <td>0</td>\n",
       "      <td>31.1656</td>\n",
       "      <td>48.3794</td>\n",
       "      <td>0</td>\n",
       "      <td>2020-03-16 12:08:25</td>\n",
       "    </tr>\n",
       "    <tr>\n",
       "      <td>52552</td>\n",
       "      <td>Ukraine</td>\n",
       "      <td>NaN</td>\n",
       "      <td>2020-02-19</td>\n",
       "      <td>Active</td>\n",
       "      <td>0</td>\n",
       "      <td>31.1656</td>\n",
       "      <td>48.3794</td>\n",
       "      <td>0</td>\n",
       "      <td>2020-03-16 12:08:25</td>\n",
       "    </tr>\n",
       "    <tr>\n",
       "      <td>52553</td>\n",
       "      <td>Ukraine</td>\n",
       "      <td>NaN</td>\n",
       "      <td>2020-02-20</td>\n",
       "      <td>Active</td>\n",
       "      <td>0</td>\n",
       "      <td>31.1656</td>\n",
       "      <td>48.3794</td>\n",
       "      <td>0</td>\n",
       "      <td>2020-03-16 12:08:25</td>\n",
       "    </tr>\n",
       "    <tr>\n",
       "      <td>52554</td>\n",
       "      <td>Ukraine</td>\n",
       "      <td>NaN</td>\n",
       "      <td>2020-02-21</td>\n",
       "      <td>Active</td>\n",
       "      <td>0</td>\n",
       "      <td>31.1656</td>\n",
       "      <td>48.3794</td>\n",
       "      <td>0</td>\n",
       "      <td>2020-03-16 12:08:25</td>\n",
       "    </tr>\n",
       "    <tr>\n",
       "      <td>52555</td>\n",
       "      <td>Ukraine</td>\n",
       "      <td>NaN</td>\n",
       "      <td>2020-02-22</td>\n",
       "      <td>Active</td>\n",
       "      <td>0</td>\n",
       "      <td>31.1656</td>\n",
       "      <td>48.3794</td>\n",
       "      <td>0</td>\n",
       "      <td>2020-03-16 12:08:25</td>\n",
       "    </tr>\n",
       "    <tr>\n",
       "      <td>52556</td>\n",
       "      <td>Ukraine</td>\n",
       "      <td>NaN</td>\n",
       "      <td>2020-02-23</td>\n",
       "      <td>Active</td>\n",
       "      <td>0</td>\n",
       "      <td>31.1656</td>\n",
       "      <td>48.3794</td>\n",
       "      <td>0</td>\n",
       "      <td>2020-03-16 12:08:25</td>\n",
       "    </tr>\n",
       "    <tr>\n",
       "      <td>52557</td>\n",
       "      <td>Ukraine</td>\n",
       "      <td>NaN</td>\n",
       "      <td>2020-02-24</td>\n",
       "      <td>Active</td>\n",
       "      <td>0</td>\n",
       "      <td>31.1656</td>\n",
       "      <td>48.3794</td>\n",
       "      <td>0</td>\n",
       "      <td>2020-03-16 12:08:25</td>\n",
       "    </tr>\n",
       "    <tr>\n",
       "      <td>52558</td>\n",
       "      <td>Ukraine</td>\n",
       "      <td>NaN</td>\n",
       "      <td>2020-02-25</td>\n",
       "      <td>Active</td>\n",
       "      <td>0</td>\n",
       "      <td>31.1656</td>\n",
       "      <td>48.3794</td>\n",
       "      <td>0</td>\n",
       "      <td>2020-03-16 12:08:25</td>\n",
       "    </tr>\n",
       "    <tr>\n",
       "      <td>52559</td>\n",
       "      <td>Ukraine</td>\n",
       "      <td>NaN</td>\n",
       "      <td>2020-02-26</td>\n",
       "      <td>Active</td>\n",
       "      <td>0</td>\n",
       "      <td>31.1656</td>\n",
       "      <td>48.3794</td>\n",
       "      <td>0</td>\n",
       "      <td>2020-03-16 12:08:25</td>\n",
       "    </tr>\n",
       "    <tr>\n",
       "      <td>52560</td>\n",
       "      <td>Ukraine</td>\n",
       "      <td>NaN</td>\n",
       "      <td>2020-02-27</td>\n",
       "      <td>Active</td>\n",
       "      <td>0</td>\n",
       "      <td>31.1656</td>\n",
       "      <td>48.3794</td>\n",
       "      <td>0</td>\n",
       "      <td>2020-03-16 12:08:25</td>\n",
       "    </tr>\n",
       "    <tr>\n",
       "      <td>52561</td>\n",
       "      <td>Ukraine</td>\n",
       "      <td>NaN</td>\n",
       "      <td>2020-02-28</td>\n",
       "      <td>Active</td>\n",
       "      <td>0</td>\n",
       "      <td>31.1656</td>\n",
       "      <td>48.3794</td>\n",
       "      <td>0</td>\n",
       "      <td>2020-03-16 12:08:25</td>\n",
       "    </tr>\n",
       "    <tr>\n",
       "      <td>52562</td>\n",
       "      <td>Ukraine</td>\n",
       "      <td>NaN</td>\n",
       "      <td>2020-02-29</td>\n",
       "      <td>Active</td>\n",
       "      <td>0</td>\n",
       "      <td>31.1656</td>\n",
       "      <td>48.3794</td>\n",
       "      <td>0</td>\n",
       "      <td>2020-03-16 12:08:25</td>\n",
       "    </tr>\n",
       "    <tr>\n",
       "      <td>52563</td>\n",
       "      <td>Ukraine</td>\n",
       "      <td>NaN</td>\n",
       "      <td>2020-03-01</td>\n",
       "      <td>Active</td>\n",
       "      <td>0</td>\n",
       "      <td>31.1656</td>\n",
       "      <td>48.3794</td>\n",
       "      <td>0</td>\n",
       "      <td>2020-03-16 12:08:25</td>\n",
       "    </tr>\n",
       "    <tr>\n",
       "      <td>52564</td>\n",
       "      <td>Ukraine</td>\n",
       "      <td>NaN</td>\n",
       "      <td>2020-03-02</td>\n",
       "      <td>Active</td>\n",
       "      <td>0</td>\n",
       "      <td>31.1656</td>\n",
       "      <td>48.3794</td>\n",
       "      <td>0</td>\n",
       "      <td>2020-03-16 12:08:25</td>\n",
       "    </tr>\n",
       "    <tr>\n",
       "      <td>52565</td>\n",
       "      <td>Ukraine</td>\n",
       "      <td>NaN</td>\n",
       "      <td>2020-03-03</td>\n",
       "      <td>Active</td>\n",
       "      <td>1</td>\n",
       "      <td>31.1656</td>\n",
       "      <td>48.3794</td>\n",
       "      <td>1</td>\n",
       "      <td>2020-03-16 12:08:25</td>\n",
       "    </tr>\n",
       "    <tr>\n",
       "      <td>52566</td>\n",
       "      <td>Ukraine</td>\n",
       "      <td>NaN</td>\n",
       "      <td>2020-03-04</td>\n",
       "      <td>Active</td>\n",
       "      <td>1</td>\n",
       "      <td>31.1656</td>\n",
       "      <td>48.3794</td>\n",
       "      <td>0</td>\n",
       "      <td>2020-03-16 12:08:25</td>\n",
       "    </tr>\n",
       "    <tr>\n",
       "      <td>52567</td>\n",
       "      <td>Ukraine</td>\n",
       "      <td>NaN</td>\n",
       "      <td>2020-03-05</td>\n",
       "      <td>Active</td>\n",
       "      <td>1</td>\n",
       "      <td>31.1656</td>\n",
       "      <td>48.3794</td>\n",
       "      <td>0</td>\n",
       "      <td>2020-03-16 12:08:25</td>\n",
       "    </tr>\n",
       "    <tr>\n",
       "      <td>52568</td>\n",
       "      <td>Ukraine</td>\n",
       "      <td>NaN</td>\n",
       "      <td>2020-03-06</td>\n",
       "      <td>Active</td>\n",
       "      <td>1</td>\n",
       "      <td>31.1656</td>\n",
       "      <td>48.3794</td>\n",
       "      <td>0</td>\n",
       "      <td>2020-03-16 12:08:25</td>\n",
       "    </tr>\n",
       "    <tr>\n",
       "      <td>52569</td>\n",
       "      <td>Ukraine</td>\n",
       "      <td>NaN</td>\n",
       "      <td>2020-03-07</td>\n",
       "      <td>Active</td>\n",
       "      <td>1</td>\n",
       "      <td>31.1656</td>\n",
       "      <td>48.3794</td>\n",
       "      <td>0</td>\n",
       "      <td>2020-03-16 12:08:25</td>\n",
       "    </tr>\n",
       "    <tr>\n",
       "      <td>52570</td>\n",
       "      <td>Ukraine</td>\n",
       "      <td>NaN</td>\n",
       "      <td>2020-03-08</td>\n",
       "      <td>Active</td>\n",
       "      <td>1</td>\n",
       "      <td>31.1656</td>\n",
       "      <td>48.3794</td>\n",
       "      <td>0</td>\n",
       "      <td>2020-03-16 12:08:25</td>\n",
       "    </tr>\n",
       "    <tr>\n",
       "      <td>52571</td>\n",
       "      <td>Ukraine</td>\n",
       "      <td>NaN</td>\n",
       "      <td>2020-03-09</td>\n",
       "      <td>Active</td>\n",
       "      <td>1</td>\n",
       "      <td>31.1656</td>\n",
       "      <td>48.3794</td>\n",
       "      <td>0</td>\n",
       "      <td>2020-03-16 12:08:25</td>\n",
       "    </tr>\n",
       "    <tr>\n",
       "      <td>52572</td>\n",
       "      <td>Ukraine</td>\n",
       "      <td>NaN</td>\n",
       "      <td>2020-03-10</td>\n",
       "      <td>Active</td>\n",
       "      <td>1</td>\n",
       "      <td>31.1656</td>\n",
       "      <td>48.3794</td>\n",
       "      <td>0</td>\n",
       "      <td>2020-03-16 12:08:25</td>\n",
       "    </tr>\n",
       "    <tr>\n",
       "      <td>52573</td>\n",
       "      <td>Ukraine</td>\n",
       "      <td>NaN</td>\n",
       "      <td>2020-03-11</td>\n",
       "      <td>Active</td>\n",
       "      <td>1</td>\n",
       "      <td>31.1656</td>\n",
       "      <td>48.3794</td>\n",
       "      <td>0</td>\n",
       "      <td>2020-03-16 12:08:25</td>\n",
       "    </tr>\n",
       "    <tr>\n",
       "      <td>52574</td>\n",
       "      <td>Ukraine</td>\n",
       "      <td>NaN</td>\n",
       "      <td>2020-03-12</td>\n",
       "      <td>Active</td>\n",
       "      <td>1</td>\n",
       "      <td>31.1656</td>\n",
       "      <td>48.3794</td>\n",
       "      <td>0</td>\n",
       "      <td>2020-03-16 12:08:25</td>\n",
       "    </tr>\n",
       "    <tr>\n",
       "      <td>52575</td>\n",
       "      <td>Ukraine</td>\n",
       "      <td>NaN</td>\n",
       "      <td>2020-03-13</td>\n",
       "      <td>Active</td>\n",
       "      <td>2</td>\n",
       "      <td>31.1656</td>\n",
       "      <td>48.3794</td>\n",
       "      <td>1</td>\n",
       "      <td>2020-03-16 12:08:25</td>\n",
       "    </tr>\n",
       "    <tr>\n",
       "      <td>52576</td>\n",
       "      <td>Ukraine</td>\n",
       "      <td>NaN</td>\n",
       "      <td>2020-03-14</td>\n",
       "      <td>Active</td>\n",
       "      <td>2</td>\n",
       "      <td>31.1656</td>\n",
       "      <td>48.3794</td>\n",
       "      <td>0</td>\n",
       "      <td>2020-03-16 12:08:25</td>\n",
       "    </tr>\n",
       "    <tr>\n",
       "      <td>52577</td>\n",
       "      <td>Ukraine</td>\n",
       "      <td>NaN</td>\n",
       "      <td>2020-03-15</td>\n",
       "      <td>Active</td>\n",
       "      <td>2</td>\n",
       "      <td>31.1656</td>\n",
       "      <td>48.3794</td>\n",
       "      <td>0</td>\n",
       "      <td>2020-03-16 12:08:25</td>\n",
       "    </tr>\n",
       "  </tbody>\n",
       "</table>\n",
       "</div>"
      ],
      "text/plain": [
       "      Country/Region Province/State       Date Case_Type  Cases     Long  \\\n",
       "52524        Ukraine            NaN 2020-01-22    Active      0  31.1656   \n",
       "52525        Ukraine            NaN 2020-01-23    Active      0  31.1656   \n",
       "52526        Ukraine            NaN 2020-01-24    Active      0  31.1656   \n",
       "52527        Ukraine            NaN 2020-01-25    Active      0  31.1656   \n",
       "52528        Ukraine            NaN 2020-01-26    Active      0  31.1656   \n",
       "52529        Ukraine            NaN 2020-01-27    Active      0  31.1656   \n",
       "52530        Ukraine            NaN 2020-01-28    Active      0  31.1656   \n",
       "52531        Ukraine            NaN 2020-01-29    Active      0  31.1656   \n",
       "52532        Ukraine            NaN 2020-01-30    Active      0  31.1656   \n",
       "52533        Ukraine            NaN 2020-01-31    Active      0  31.1656   \n",
       "52534        Ukraine            NaN 2020-02-01    Active      0  31.1656   \n",
       "52535        Ukraine            NaN 2020-02-02    Active      0  31.1656   \n",
       "52536        Ukraine            NaN 2020-02-03    Active      0  31.1656   \n",
       "52537        Ukraine            NaN 2020-02-04    Active      0  31.1656   \n",
       "52538        Ukraine            NaN 2020-02-05    Active      0  31.1656   \n",
       "52539        Ukraine            NaN 2020-02-06    Active      0  31.1656   \n",
       "52540        Ukraine            NaN 2020-02-07    Active      0  31.1656   \n",
       "52541        Ukraine            NaN 2020-02-08    Active      0  31.1656   \n",
       "52542        Ukraine            NaN 2020-02-09    Active      0  31.1656   \n",
       "52543        Ukraine            NaN 2020-02-10    Active      0  31.1656   \n",
       "52544        Ukraine            NaN 2020-02-11    Active      0  31.1656   \n",
       "52545        Ukraine            NaN 2020-02-12    Active      0  31.1656   \n",
       "52546        Ukraine            NaN 2020-02-13    Active      0  31.1656   \n",
       "52547        Ukraine            NaN 2020-02-14    Active      0  31.1656   \n",
       "52548        Ukraine            NaN 2020-02-15    Active      0  31.1656   \n",
       "52549        Ukraine            NaN 2020-02-16    Active      0  31.1656   \n",
       "52550        Ukraine            NaN 2020-02-17    Active      0  31.1656   \n",
       "52551        Ukraine            NaN 2020-02-18    Active      0  31.1656   \n",
       "52552        Ukraine            NaN 2020-02-19    Active      0  31.1656   \n",
       "52553        Ukraine            NaN 2020-02-20    Active      0  31.1656   \n",
       "52554        Ukraine            NaN 2020-02-21    Active      0  31.1656   \n",
       "52555        Ukraine            NaN 2020-02-22    Active      0  31.1656   \n",
       "52556        Ukraine            NaN 2020-02-23    Active      0  31.1656   \n",
       "52557        Ukraine            NaN 2020-02-24    Active      0  31.1656   \n",
       "52558        Ukraine            NaN 2020-02-25    Active      0  31.1656   \n",
       "52559        Ukraine            NaN 2020-02-26    Active      0  31.1656   \n",
       "52560        Ukraine            NaN 2020-02-27    Active      0  31.1656   \n",
       "52561        Ukraine            NaN 2020-02-28    Active      0  31.1656   \n",
       "52562        Ukraine            NaN 2020-02-29    Active      0  31.1656   \n",
       "52563        Ukraine            NaN 2020-03-01    Active      0  31.1656   \n",
       "52564        Ukraine            NaN 2020-03-02    Active      0  31.1656   \n",
       "52565        Ukraine            NaN 2020-03-03    Active      1  31.1656   \n",
       "52566        Ukraine            NaN 2020-03-04    Active      1  31.1656   \n",
       "52567        Ukraine            NaN 2020-03-05    Active      1  31.1656   \n",
       "52568        Ukraine            NaN 2020-03-06    Active      1  31.1656   \n",
       "52569        Ukraine            NaN 2020-03-07    Active      1  31.1656   \n",
       "52570        Ukraine            NaN 2020-03-08    Active      1  31.1656   \n",
       "52571        Ukraine            NaN 2020-03-09    Active      1  31.1656   \n",
       "52572        Ukraine            NaN 2020-03-10    Active      1  31.1656   \n",
       "52573        Ukraine            NaN 2020-03-11    Active      1  31.1656   \n",
       "52574        Ukraine            NaN 2020-03-12    Active      1  31.1656   \n",
       "52575        Ukraine            NaN 2020-03-13    Active      2  31.1656   \n",
       "52576        Ukraine            NaN 2020-03-14    Active      2  31.1656   \n",
       "52577        Ukraine            NaN 2020-03-15    Active      2  31.1656   \n",
       "\n",
       "           Lat  Difference    Last_Update_Date  \n",
       "52524  48.3794           0 2020-03-16 12:08:25  \n",
       "52525  48.3794           0 2020-03-16 12:08:25  \n",
       "52526  48.3794           0 2020-03-16 12:08:25  \n",
       "52527  48.3794           0 2020-03-16 12:08:25  \n",
       "52528  48.3794           0 2020-03-16 12:08:25  \n",
       "52529  48.3794           0 2020-03-16 12:08:25  \n",
       "52530  48.3794           0 2020-03-16 12:08:25  \n",
       "52531  48.3794           0 2020-03-16 12:08:25  \n",
       "52532  48.3794           0 2020-03-16 12:08:25  \n",
       "52533  48.3794           0 2020-03-16 12:08:25  \n",
       "52534  48.3794           0 2020-03-16 12:08:25  \n",
       "52535  48.3794           0 2020-03-16 12:08:25  \n",
       "52536  48.3794           0 2020-03-16 12:08:25  \n",
       "52537  48.3794           0 2020-03-16 12:08:25  \n",
       "52538  48.3794           0 2020-03-16 12:08:25  \n",
       "52539  48.3794           0 2020-03-16 12:08:25  \n",
       "52540  48.3794           0 2020-03-16 12:08:25  \n",
       "52541  48.3794           0 2020-03-16 12:08:25  \n",
       "52542  48.3794           0 2020-03-16 12:08:25  \n",
       "52543  48.3794           0 2020-03-16 12:08:25  \n",
       "52544  48.3794           0 2020-03-16 12:08:25  \n",
       "52545  48.3794           0 2020-03-16 12:08:25  \n",
       "52546  48.3794           0 2020-03-16 12:08:25  \n",
       "52547  48.3794           0 2020-03-16 12:08:25  \n",
       "52548  48.3794           0 2020-03-16 12:08:25  \n",
       "52549  48.3794           0 2020-03-16 12:08:25  \n",
       "52550  48.3794           0 2020-03-16 12:08:25  \n",
       "52551  48.3794           0 2020-03-16 12:08:25  \n",
       "52552  48.3794           0 2020-03-16 12:08:25  \n",
       "52553  48.3794           0 2020-03-16 12:08:25  \n",
       "52554  48.3794           0 2020-03-16 12:08:25  \n",
       "52555  48.3794           0 2020-03-16 12:08:25  \n",
       "52556  48.3794           0 2020-03-16 12:08:25  \n",
       "52557  48.3794           0 2020-03-16 12:08:25  \n",
       "52558  48.3794           0 2020-03-16 12:08:25  \n",
       "52559  48.3794           0 2020-03-16 12:08:25  \n",
       "52560  48.3794           0 2020-03-16 12:08:25  \n",
       "52561  48.3794           0 2020-03-16 12:08:25  \n",
       "52562  48.3794           0 2020-03-16 12:08:25  \n",
       "52563  48.3794           0 2020-03-16 12:08:25  \n",
       "52564  48.3794           0 2020-03-16 12:08:25  \n",
       "52565  48.3794           1 2020-03-16 12:08:25  \n",
       "52566  48.3794           0 2020-03-16 12:08:25  \n",
       "52567  48.3794           0 2020-03-16 12:08:25  \n",
       "52568  48.3794           0 2020-03-16 12:08:25  \n",
       "52569  48.3794           0 2020-03-16 12:08:25  \n",
       "52570  48.3794           0 2020-03-16 12:08:25  \n",
       "52571  48.3794           0 2020-03-16 12:08:25  \n",
       "52572  48.3794           0 2020-03-16 12:08:25  \n",
       "52573  48.3794           0 2020-03-16 12:08:25  \n",
       "52574  48.3794           0 2020-03-16 12:08:25  \n",
       "52575  48.3794           1 2020-03-16 12:08:25  \n",
       "52576  48.3794           0 2020-03-16 12:08:25  \n",
       "52577  48.3794           0 2020-03-16 12:08:25  "
      ]
     },
     "execution_count": 90,
     "metadata": {},
     "output_type": "execute_result"
    }
   ],
   "source": [
    "df[filtro_ativos & filtro_ukr]"
   ]
  },
  {
   "cell_type": "code",
   "execution_count": null,
   "metadata": {},
   "outputs": [],
   "source": []
  }
 ],
 "metadata": {
  "kernelspec": {
   "display_name": "Python 3",
   "language": "python",
   "name": "python3"
  },
  "language_info": {
   "codemirror_mode": {
    "name": "ipython",
    "version": 3
   },
   "file_extension": ".py",
   "mimetype": "text/x-python",
   "name": "python",
   "nbconvert_exporter": "python",
   "pygments_lexer": "ipython3",
   "version": "3.7.4"
  }
 },
 "nbformat": 4,
 "nbformat_minor": 2
}
